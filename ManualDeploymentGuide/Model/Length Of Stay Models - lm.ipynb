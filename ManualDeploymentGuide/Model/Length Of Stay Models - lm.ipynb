{
 "cells": [
  {
   "cell_type": "markdown",
   "metadata": {},
   "source": [
    "# Training a Linear Model to Predict Length of Stay\n",
    "\n",
    "The [Population Health Management Solution](https://github.com/Azure/cortana-intelligence-population-health-management) uses U-SQL queries in Data Lake Analytics to apply trained models to input data. The solution copies pre-trained models to an Azure Data Lake Store account (under the folder `forphmdeploymentbyadf`) for this purpose. In this notebook, we provide the code used to generate the models.\n",
    "\n",
    "Running this notebook will create the models used in this solution and store them in a folder named `myLOSmodelsfolder` in your current working directory."
   ]
  },
  {
   "cell_type": "markdown",
   "metadata": {},
   "source": [
    "## Outline <a id=\"BackToTop\"></a>\n",
    "\n",
    "  * [Problem Description](#probdesc)\n",
    "  * [Get Data](#getdata)\n",
    "  * [Data Description](#datadesc)\n",
    "  * [Data Exploration](#dataexp)\n",
    "  * [Feature Engineering](#featureeng)\n",
    "  * [Create the Model](#model)\n",
    "  * [Results](#results)"
   ]
  },
  {
   "cell_type": "markdown",
   "metadata": {},
   "source": [
    "## Problem Description  <a id=\"probdesc\"></a>\n",
    "### Why predict the length of a hospital stay?\n",
    "\n",
    "Recent legislative changes have standardized payments for procedures performed, regardless of the number of days a patient actually spends in the hospital. Hospitals are therefore strongly incentivized to use resources more efficiently and find ways to accommodate more patients with the same volume of resources. An accurate prediction of each patient's length of stay can help hospitals:\n",
    "1. Manage bed occupancy \n",
    "2. Effectively schedule elective admissions   \n",
    "3. Improve patient satisfaction during their hospital stay   \n",
    "\n",
    "Extended lengths of stay costs hospitals millions of dollars a year. By identifying patients at risk for an extended stay, they can take proactive measures to formulate a treatment plan to reduce the expected length of stay.\n",
    "\n",
    "### When should the prediction be used?  \n",
    "\n",
    "Hospitals want to predict the length of each patient's stay at the time of admission and provide this information to the admitting nurse or staff. Our model is trained using encounter-level records for a million or so patients from 23 hospitals (obtained from the Healthcare Cost and Utilization Project, or [HCUP](https://www.hcup-us.ahrq.gov/)) and is suitable for use on similar patient populations, though we recommend that hospitals retrain the model using their own historical patient data for best results. To be applied to newly-admitted patients, the model must be trained using only features that are available for each patient at the time of their admission."
   ]
  },
  {
   "cell_type": "markdown",
   "metadata": {},
   "source": [
    " [Back To Top](#BackToTop)"
   ]
  },
  {
   "cell_type": "markdown",
   "metadata": {},
   "source": [
    "<a id=\"getdata\"></a>\n",
    "## Get Data\n",
    "\n",
    "Here, we download copies of the training data (~2 GB) from the web to your current working directory. This will likely take a few minutes, depending on your bandwidth:"
   ]
  },
  {
   "cell_type": "code",
   "execution_count": 1,
   "metadata": {
    "collapsed": false
   },
   "outputs": [
    {
     "data": {
      "text/html": [
       "<table>\n",
       "<thead><tr><th></th><th scope=col>used</th><th scope=col>(Mb)</th><th scope=col>gc trigger</th><th scope=col>(Mb)</th><th scope=col>max used</th><th scope=col>(Mb)</th></tr></thead>\n",
       "<tbody>\n",
       "\t<tr><th scope=row>Ncells</th><td>440810 </td><td>23.6   </td><td> 750400</td><td>40.1   </td><td>592000 </td><td>31.7   </td></tr>\n",
       "\t<tr><th scope=row>Vcells</th><td>814395 </td><td> 6.3   </td><td>1650153</td><td>12.6   </td><td>966319 </td><td> 7.4   </td></tr>\n",
       "</tbody>\n",
       "</table>\n"
      ],
      "text/latex": [
       "\\begin{tabular}{r|llllll}\n",
       "  & used & (Mb) & gc trigger & (Mb) & max used & (Mb)\\\\\n",
       "\\hline\n",
       "\tNcells & 440810  & 23.6    &  750400 & 40.1    & 592000  & 31.7   \\\\\n",
       "\tVcells & 814395  &  6.3    & 1650153 & 12.6    & 966319  &  7.4   \\\\\n",
       "\\end{tabular}\n"
      ],
      "text/markdown": [
       "\n",
       "| <!--/--> | used | (Mb) | gc trigger | (Mb) | max used | (Mb) | \n",
       "|---|---|\n",
       "| Ncells | 440810  | 23.6    |  750400 | 40.1    | 592000  | 31.7    | \n",
       "| Vcells | 814395  |  6.3    | 1650153 | 12.6    | 966319  |  7.4    | \n",
       "\n",
       "\n"
      ],
      "text/plain": [
       "       used   (Mb) gc trigger (Mb) max used (Mb)\n",
       "Ncells 440810 23.6  750400    40.1 592000   31.7\n",
       "Vcells 814395  6.3 1650153    12.6 966319    7.4"
      ]
     },
     "metadata": {},
     "output_type": "display_data"
    },
    {
     "data": {
      "text/plain": [
       "[1] \"2017-06-12 15:56:50 EDT\""
      ]
     },
     "metadata": {},
     "output_type": "display_data"
    },
    {
     "data": {
      "text/plain": [
       "[1] \"2017-06-12 16:00:39 EDT\""
      ]
     },
     "metadata": {},
     "output_type": "display_data"
    }
   ],
   "source": [
    "# clear workspace and collect garbage\n",
    "rm(list=ls())\n",
    "gc()\n",
    "\n",
    "Sys.time()\n",
    "url1 <- \"https://phm.blob.core.windows.net/models/core_data.csv\"\n",
    "url2 <- \"https://phm.blob.core.windows.net/models/charges_data.csv\"\n",
    "url3 <- \"https://phm.blob.core.windows.net/models/severity_data.csv\"\n",
    "url4 <- \"https://phm.blob.core.windows.net/models/dxpr_data.csv\"\n",
    "\n",
    "pathd <- getwd()\n",
    "dest1 <- paste(pathd, \"/core_data.csv\", sep='')\n",
    "dest2 <- paste(pathd, \"/charges_data.csv\", sep='')\n",
    "dest3 <- paste(pathd, \"/severity_data.csv\", sep='')\n",
    "dest4 <- paste(pathd, \"/dxpr_data.csv\", sep='')\n",
    "\n",
    "download.file(url1, dest1)\n",
    "download.file(url2, dest2)\n",
    "download.file(url3, dest3)\n",
    "download.file(url4, dest4)\n",
    "Sys.time()"
   ]
  },
  {
   "cell_type": "markdown",
   "metadata": {},
   "source": [
    "We now read the input files into memory (this will likely take a few minutes, given the combined size of the files):"
   ]
  },
  {
   "cell_type": "code",
   "execution_count": 2,
   "metadata": {
    "collapsed": false
   },
   "outputs": [
    {
     "data": {
      "text/plain": [
       "[1] \"2017-06-12 16:02:17 EDT\""
      ]
     },
     "metadata": {},
     "output_type": "display_data"
    },
    {
     "data": {
      "text/plain": [
       "[1] \"2017-06-12 16:05:35 EDT\""
      ]
     },
     "metadata": {},
     "output_type": "display_data"
    }
   ],
   "source": [
    "Sys.time()\n",
    "dat_core <- read.csv(dest1)\n",
    "dat_chrg <- read.csv(dest2)\n",
    "dat_sevr <- read.csv(dest3)\n",
    "dat_dxpr <- read.csv(dest4)\n",
    "Sys.time()"
   ]
  },
  {
   "cell_type": "markdown",
   "metadata": {},
   "source": [
    "Confirm that the input files were downloaded and read fully by checking the data dimensions:"
   ]
  },
  {
   "cell_type": "code",
   "execution_count": 3,
   "metadata": {
    "collapsed": false
   },
   "outputs": [
    {
     "data": {
      "text/html": [
       "<ol class=list-inline>\n",
       "\t<li>1103172</li>\n",
       "\t<li>248</li>\n",
       "</ol>\n"
      ],
      "text/latex": [
       "\\begin{enumerate*}\n",
       "\\item 1103172\n",
       "\\item 248\n",
       "\\end{enumerate*}\n"
      ],
      "text/markdown": [
       "1. 1103172\n",
       "2. 248\n",
       "\n",
       "\n"
      ],
      "text/plain": [
       "[1] 1103172     248"
      ]
     },
     "metadata": {},
     "output_type": "display_data"
    },
    {
     "data": {
      "text/html": [
       "<ol class=list-inline>\n",
       "\t<li>1103172</li>\n",
       "\t<li>155</li>\n",
       "</ol>\n"
      ],
      "text/latex": [
       "\\begin{enumerate*}\n",
       "\\item 1103172\n",
       "\\item 155\n",
       "\\end{enumerate*}\n"
      ],
      "text/markdown": [
       "1. 1103172\n",
       "2. 155\n",
       "\n",
       "\n"
      ],
      "text/plain": [
       "[1] 1103172     155"
      ]
     },
     "metadata": {},
     "output_type": "display_data"
    },
    {
     "data": {
      "text/html": [
       "<ol class=list-inline>\n",
       "\t<li>1103172</li>\n",
       "\t<li>30</li>\n",
       "</ol>\n"
      ],
      "text/latex": [
       "\\begin{enumerate*}\n",
       "\\item 1103172\n",
       "\\item 30\n",
       "\\end{enumerate*}\n"
      ],
      "text/markdown": [
       "1. 1103172\n",
       "2. 30\n",
       "\n",
       "\n"
      ],
      "text/plain": [
       "[1] 1103172      30"
      ]
     },
     "metadata": {},
     "output_type": "display_data"
    },
    {
     "data": {
      "text/html": [
       "<ol class=list-inline>\n",
       "\t<li>1103172</li>\n",
       "\t<li>180</li>\n",
       "</ol>\n"
      ],
      "text/latex": [
       "\\begin{enumerate*}\n",
       "\\item 1103172\n",
       "\\item 180\n",
       "\\end{enumerate*}\n"
      ],
      "text/markdown": [
       "1. 1103172\n",
       "2. 180\n",
       "\n",
       "\n"
      ],
      "text/plain": [
       "[1] 1103172     180"
      ]
     },
     "metadata": {},
     "output_type": "display_data"
    }
   ],
   "source": [
    "dim(dat_core) # expected: 1103172 x 248\n",
    "dim(dat_chrg) # expected: 1103172 x 155\n",
    "dim(dat_sevr) # expected: 1103172 x 30\n",
    "dim(dat_dxpr) # expected: 1103172 x 180"
   ]
  },
  {
   "cell_type": "markdown",
   "metadata": {},
   "source": [
    "Merge the input files and delete the intermediate variables:"
   ]
  },
  {
   "cell_type": "code",
   "execution_count": 4,
   "metadata": {
    "collapsed": false
   },
   "outputs": [
    {
     "data": {
      "text/html": [
       "<ol class=list-inline>\n",
       "\t<li>1103172</li>\n",
       "\t<li>610</li>\n",
       "</ol>\n"
      ],
      "text/latex": [
       "\\begin{enumerate*}\n",
       "\\item 1103172\n",
       "\\item 610\n",
       "\\end{enumerate*}\n"
      ],
      "text/markdown": [
       "1. 1103172\n",
       "2. 610\n",
       "\n",
       "\n"
      ],
      "text/plain": [
       "[1] 1103172     610"
      ]
     },
     "metadata": {},
     "output_type": "display_data"
    }
   ],
   "source": [
    "dat <- merge(merge(merge(dat_sevr, dat_chrg, by=\"KEY\"), dat_core, by=\"KEY\"), dat_dxpr, by=\"KEY\")\n",
    "dim(dat) # expected: 1103172 x 610\n",
    "rm(dat_core, dat_chrg, dat_sevr, dat_dxpr)"
   ]
  },
  {
   "cell_type": "markdown",
   "metadata": {},
   "source": [
    " [Back To Top](#BackToTop)"
   ]
  },
  {
   "cell_type": "markdown",
   "metadata": {},
   "source": [
    "<a id=\"datadesc\"></a>\n",
    "## Data Description  \n",
    "\n",
    "We list the columns contained in the dataset below. A full description of the columns in this dataset can be found in the [data dictionary](https://www.hcup-us.ahrq.gov/db/state/siddist/siddistvarnote2013.jsp)."
   ]
  },
  {
   "cell_type": "code",
   "execution_count": null,
   "metadata": {
    "collapsed": false
   },
   "outputs": [],
   "source": [
    "names(dat)"
   ]
  },
  {
   "cell_type": "markdown",
   "metadata": {},
   "source": [
    "We perform a few sanity checks on the integrity of the downloaded data, ensuring that the month column contains the values for months and so on:"
   ]
  },
  {
   "cell_type": "code",
   "execution_count": 71,
   "metadata": {
    "collapsed": false
   },
   "outputs": [
    {
     "data": {
      "text/html": [
       "2016"
      ],
      "text/latex": [
       "2016"
      ],
      "text/markdown": [
       "2016"
      ],
      "text/plain": [
       "[1] 2016"
      ]
     },
     "execution_count": 71,
     "metadata": {},
     "output_type": "execute_result"
    },
    {
     "data": {
      "text/html": [
       "<ol class=list-inline>\n",
       "\t<li>8</li>\n",
       "\t<li>3</li>\n",
       "\t<li>9</li>\n",
       "\t<li>5</li>\n",
       "\t<li>4</li>\n",
       "\t<li>6</li>\n",
       "\t<li>12</li>\n",
       "\t<li>2</li>\n",
       "\t<li>1</li>\n",
       "\t<li>10</li>\n",
       "\t<li>7</li>\n",
       "\t<li>11</li>\n",
       "</ol>\n"
      ],
      "text/latex": [
       "\\begin{enumerate*}\n",
       "\\item 8\n",
       "\\item 3\n",
       "\\item 9\n",
       "\\item 5\n",
       "\\item 4\n",
       "\\item 6\n",
       "\\item 12\n",
       "\\item 2\n",
       "\\item 1\n",
       "\\item 10\n",
       "\\item 7\n",
       "\\item 11\n",
       "\\end{enumerate*}\n"
      ],
      "text/markdown": [
       "1. 8\n",
       "2. 3\n",
       "3. 9\n",
       "4. 5\n",
       "5. 4\n",
       "6. 6\n",
       "7. 12\n",
       "8. 2\n",
       "9. 1\n",
       "10. 10\n",
       "11. 7\n",
       "12. 11\n",
       "\n",
       "\n"
      ],
      "text/plain": [
       " [1]  8  3  9  5  4  6 12  2  1 10  7 11"
      ]
     },
     "execution_count": 71,
     "metadata": {},
     "output_type": "execute_result"
    },
    {
     "data": {
      "text/html": [
       "12"
      ],
      "text/latex": [
       "12"
      ],
      "text/markdown": [
       "12"
      ],
      "text/plain": [
       "[1] 12"
      ]
     },
     "execution_count": 71,
     "metadata": {},
     "output_type": "execute_result"
    },
    {
     "data": {
      "text/html": [
       "<ol class=list-inline>\n",
       "\t<li>Female</li>\n",
       "\t<li>Male</li>\n",
       "</ol>\n"
      ],
      "text/latex": [
       "\\begin{enumerate*}\n",
       "\\item Female\n",
       "\\item Male\n",
       "\\end{enumerate*}\n"
      ],
      "text/markdown": [
       "1. Female\n",
       "2. Male\n",
       "\n",
       "\n"
      ],
      "text/plain": [
       "[1] Female Male  \n",
       "Levels: Female Male"
      ]
     },
     "execution_count": 71,
     "metadata": {},
     "output_type": "execute_result"
    }
   ],
   "source": [
    "unique(dat$AYEAR) \n",
    "unique(dat$AMONTH) \n",
    "length(unique(dat$AMONTH))\n",
    "unique(dat$FEMALE)"
   ]
  },
  {
   "cell_type": "markdown",
   "metadata": {},
   "source": [
    "The dataset currently contains 610 columns, but some are not suitable for use with our model because they are not available at the time of a patient's admission (when the length-of-stay prediction will be made). We will use just the following 135 columns for building the length-of-stay model: "
   ]
  },
  {
   "cell_type": "code",
   "execution_count": 7,
   "metadata": {
    "collapsed": false
   },
   "outputs": [
    {
     "data": {
      "text/html": [
       "135"
      ],
      "text/latex": [
       "135"
      ],
      "text/markdown": [
       "135"
      ],
      "text/plain": [
       "[1] 135"
      ]
     },
     "metadata": {},
     "output_type": "display_data"
    }
   ],
   "source": [
    "cols_demographic <- c('AGE', 'FEMALE', 'RACE', 'MEDINCSTQ', 'PSTATE', 'ZIP', 'HOSPST', 'PAY1', 'PAY2', 'PAY3') \n",
    "cols_admitinfo <- c('KEY', 'VisitLink', 'DSHOSPID', 'ATYPE', 'AMONTH', 'PointOfOriginUB04', 'TRAN_IN')\n",
    "cols_Diagnosis_present_on_admission <- grep('DXPOA', names(dat), value=T)\n",
    "cols_ECode_present_on_admission <- grep('E_POA', names(dat), value=T)\n",
    "cols_ICD9_CM_Chronic_Condition_Indicators <- grep('^CHRON[0-9]', names(dat), value=T)\n",
    "cols_Chronic_Condition_Indicators_BodySystem <- grep('^CHRONB', names(dat), value=T)\n",
    "cols_comorbidity_measure_ICD9_CMcodes <- grep('^CM_', names(dat), value=T)\n",
    "cols_primaryDiagnosis <- c('DX1', 'DXCCS1', 'DXMCCS1')\n",
    "cols_counts <- c('NDX', 'NCHRONIC')\n",
    "cols_Target <- c('LOS')\n",
    "cols4los <- c(cols_demographic, cols_admitinfo, cols_Diagnosis_present_on_admission, cols_ECode_present_on_admission, \n",
    "              cols_ICD9_CM_Chronic_Condition_Indicators, cols_Chronic_Condition_Indicators_BodySystem,\n",
    "              cols_comorbidity_measure_ICD9_CMcodes, cols_primaryDiagnosis, cols_counts, cols_Target)\n",
    "length(cols4los)"
   ]
  },
  {
   "cell_type": "markdown",
   "metadata": {},
   "source": [
    "We now reduce the dataset to just the columns of interest:"
   ]
  },
  {
   "cell_type": "code",
   "execution_count": 8,
   "metadata": {
    "collapsed": false
   },
   "outputs": [
    {
     "data": {
      "text/html": [
       "<ol class=list-inline>\n",
       "\t<li>1103172</li>\n",
       "\t<li>135</li>\n",
       "</ol>\n"
      ],
      "text/latex": [
       "\\begin{enumerate*}\n",
       "\\item 1103172\n",
       "\\item 135\n",
       "\\end{enumerate*}\n"
      ],
      "text/markdown": [
       "1. 1103172\n",
       "2. 135\n",
       "\n",
       "\n"
      ],
      "text/plain": [
       "[1] 1103172     135"
      ]
     },
     "metadata": {},
     "output_type": "display_data"
    }
   ],
   "source": [
    "dat4los <- dat[, cols4los]\n",
    "dim(dat4los)"
   ]
  },
  {
   "cell_type": "markdown",
   "metadata": {},
   "source": [
    " [Back To Top](#BackToTop)"
   ]
  },
  {
   "cell_type": "markdown",
   "metadata": {},
   "source": [
    "## Data Exploration  <a id=\"dataexp\"></a>\n",
    "\n",
    "### Categorical features\n",
    "\n",
    "The dataset contains 13 categorical features. Below, we enumerate these features and show their possible values:"
   ]
  },
  {
   "cell_type": "code",
   "execution_count": null,
   "metadata": {
    "collapsed": false
   },
   "outputs": [],
   "source": [
    "cat_cols <- c('DSHOSPID', 'FEMALE', 'RACE', 'ATYPE', 'AMONTH', 'PointOfOriginUB04', 'TRAN_IN',\n",
    "              'MEDINCSTQ', 'PSTATE', 'PAY1', 'DXCCS1', 'DXMCCS1', 'ZIP')\n",
    "\n",
    "apply(dat4los[, cat_cols], 2, FUN=function(x){length(unique(x))})\n",
    "apply(dat4los[, cat_cols], 2, FUN=function(x){unique(x)})"
   ]
  },
  {
   "cell_type": "markdown",
   "metadata": {},
   "source": [
    "### Distribution of Length Of Stay\n",
    "\n",
    "Below, we plot the distribution of values for our model's prediction target, `LOS` (length of stay): "
   ]
  },
  {
   "cell_type": "code",
   "execution_count": 9,
   "metadata": {
    "collapsed": false
   },
   "outputs": [
    {
     "data": {
      "text/html": [
       "<table>\n",
       "<tbody>\n",
       "\t<tr><td>0.7</td></tr>\n",
       "\t<tr><td>1.9</td></tr>\n",
       "\t<tr><td>3.1</td></tr>\n",
       "\t<tr><td>4.3</td></tr>\n",
       "\t<tr><td>5.5</td></tr>\n",
       "\t<tr><td>6.7</td></tr>\n",
       "</tbody>\n",
       "</table>\n"
      ],
      "text/latex": [
       "\\begin{tabular}{l}\n",
       "\t 0.7\\\\\n",
       "\t 1.9\\\\\n",
       "\t 3.1\\\\\n",
       "\t 4.3\\\\\n",
       "\t 5.5\\\\\n",
       "\t 6.7\\\\\n",
       "\\end{tabular}\n"
      ],
      "text/markdown": [
       "\n",
       "| 0.7 | \n",
       "| 1.9 | \n",
       "| 3.1 | \n",
       "| 4.3 | \n",
       "| 5.5 | \n",
       "| 6.7 | \n",
       "\n",
       "\n"
      ],
      "text/plain": [
       "     [,1]\n",
       "[1,] 0.7 \n",
       "[2,] 1.9 \n",
       "[3,] 3.1 \n",
       "[4,] 4.3 \n",
       "[5,] 5.5 \n",
       "[6,] 6.7 "
      ]
     },
     "metadata": {},
     "output_type": "display_data"
    },
    {
     "data": {
      "image/png": "[encoded data removed]",
      "text/plain": [
       "plot without title"
      ]
     },
     "metadata": {},
     "output_type": "display_data"
    }
   ],
   "source": [
    "losbreaks <- c(0, 2, 4, 6, 10, 20, 365)\n",
    "loslabels <- c('vshort', 'short', 'medium', 'long', 'vlong', 'extreme')\n",
    "losdist <- data.frame(table(cut(as.numeric(dat4los$LOS), breaks=losbreaks, labels=loslabels)))\n",
    "\n",
    "bp <- barplot(losdist$Freq, names.arg=losdist$Var1)\n",
    "bp\n",
    "legend(\"topright\",\n",
    "       fill=c(\"grey\"),\n",
    "       c('vshort (0-2d)', 'short (2-4d)', 'medium (4-6d)', 'long (6-10d)', 'vlong (10-20d)', 'extreme (20-365d)'))"
   ]
  },
  {
   "cell_type": "markdown",
   "metadata": {},
   "source": [
    " [Back To Top](#BackToTop)"
   ]
  },
  {
   "cell_type": "markdown",
   "metadata": {},
   "source": [
    "<a id=\"featureeng\"></a>\n",
    "## Feature Engineering\n",
    "\n",
    "Create some additional features from raw data.\n",
    "\n",
    "### Count diagnoses present on admission\n",
    "\n",
    "Find the columns named DXPOA1 - DXPOA25, convert them from string to integer values, perform the count, then delete the original DXPOA columns:"
   ]
  },
  {
   "cell_type": "code",
   "execution_count": 14,
   "metadata": {
    "collapsed": true
   },
   "outputs": [],
   "source": [
    "indDXPOA <- grep('DXPOA', names(dat4los))\n",
    "dat4los[, indDXPOA] <- apply(dat4los[, indDXPOA], 2, FUN=function(x){ifelse(x=='Y', 1, x)}) \n",
    "dat4los[, indDXPOA] <- apply(dat4los[, indDXPOA], 2, FUN=function(x){ifelse(x==1, x, 0)})\n",
    "\n",
    "dat4los$num_DXPOA <- apply(dat4los[, indDXPOA], 1, FUN=function(x){length(x[x=='1'])})\n",
    "dat4los <- dat4los[, -indDXPOA]"
   ]
  },
  {
   "cell_type": "markdown",
   "metadata": {},
   "source": [
    "### Count external causes of injury present on admission\n",
    "\n",
    "Delete the original binary indicators."
   ]
  },
  {
   "cell_type": "code",
   "execution_count": 15,
   "metadata": {
    "collapsed": true
   },
   "outputs": [],
   "source": [
    "indE_POA <- grep('E_POA', names(dat4los))\n",
    "dat4los[, indE_POA] <- apply(dat4los[, indE_POA], 2, FUN=function(x){ifelse(x=='Y', 1, x)})\n",
    "dat4los[, indE_POA] <- apply(dat4los[, indE_POA], 2, FUN=function(x){ifelse(x==1, x, 0)})\n",
    "\n",
    "dat4los$num_E_POA <- apply(dat4los[, indE_POA], 1, FUN=function(x){length(x[x=='1'])})\n",
    "dat4los <- dat4los[, -indE_POA]"
   ]
  },
  {
   "cell_type": "markdown",
   "metadata": {},
   "source": [
    "### Count the number of body systems affected by chronic conditions\n",
    "\n",
    "Delete the original binary indicators (both at the body system and individual condition levels)."
   ]
  },
  {
   "cell_type": "code",
   "execution_count": 16,
   "metadata": {
    "collapsed": true
   },
   "outputs": [],
   "source": [
    "indchronB <- grep('^CHRONB[0-9]', names(dat4los))\n",
    "dat4los$num_uCHRONB <- apply(dat4los[indchronB], 1, FUN=function(x){length(unique(x[!is.na(x)]))})\n",
    "dat4los <- dat4los[, -indchronB]\n",
    "\n",
    "# Won't use these for anything either\n",
    "indCHRON <- grep('^CHRON[0-9]', names(dat4los))\n",
    "dat4los <- dat4los[, -indCHRON]"
   ]
  },
  {
   "cell_type": "markdown",
   "metadata": {},
   "source": [
    "### Count number of payers (medicare, medicaid, private insurance, ...)\n",
    "\n",
    "Delete the mostly-missing columns `PAY2` and `PAY3` when done."
   ]
  },
  {
   "cell_type": "code",
   "execution_count": 17,
   "metadata": {
    "collapsed": true
   },
   "outputs": [],
   "source": [
    "indPAY <- grep('PAY', names(dat4los), value=T)\n",
    "dat4los$num_PAY <- apply(dat4los[, grep('PAY', names(dat4los), value=T)],\n",
    "                         1,\n",
    "                         FUN=function(x){length(x[!is.na(x)])})\n",
    "\n",
    "dat4los$PAY2 <- NULL\n",
    "dat4los$PAY3 <- NULL"
   ]
  },
  {
   "cell_type": "markdown",
   "metadata": {},
   "source": [
    "### Count pre-existing (comorbid) conditions\n",
    "\n",
    "Delete the original binary indicators when done."
   ]
  },
  {
   "cell_type": "code",
   "execution_count": 18,
   "metadata": {
    "collapsed": true
   },
   "outputs": [],
   "source": [
    "indCM <- grep('CM_', names(dat4los))\n",
    "dat4los$num_CM <- apply(dat4los[, indCM], 1, FUN=function(x){(length(x[x==1]))})\n",
    "\n",
    "dat4los <- dat4los[, -indCM]"
   ]
  },
  {
   "cell_type": "markdown",
   "metadata": {},
   "source": [
    "### Remove rows with invalid point of origin values"
   ]
  },
  {
   "cell_type": "code",
   "execution_count": 19,
   "metadata": {
    "collapsed": true
   },
   "outputs": [],
   "source": [
    "indgood <- grep('[0-9A-Za-z]', dat4los$PointOfOriginUB04)\n",
    "dat4los <- dat4los[indgood, ]"
   ]
  },
  {
   "cell_type": "markdown",
   "metadata": {},
   "source": [
    "### Remove `HOSPT` and `DX1` columns\n",
    "\n",
    "We will apply the model to simulated data where there is only one state, so we will derive no benefit from including the hospital state (`HOSPST`) column. We will also remove the `DX1` column (we'll use the more specific `DXCCS1` feature instead)."
   ]
  },
  {
   "cell_type": "code",
   "execution_count": 20,
   "metadata": {
    "collapsed": true
   },
   "outputs": [],
   "source": [
    "dat4los <- dat4los[, !names(dat4los) %in% c('HOSPST')]\n",
    "dat4los <- dat4los[, !names(dat4los) %in% c('DX1')]"
   ]
  },
  {
   "cell_type": "markdown",
   "metadata": {},
   "source": [
    "### Keep just the first three digits of the zip code\n",
    "\n",
    "Allows us to group hospitals by larger geographical regions."
   ]
  },
  {
   "cell_type": "code",
   "execution_count": 21,
   "metadata": {
    "collapsed": false
   },
   "outputs": [],
   "source": [
    "dat4los$ZIP3 <- substr(dat4los$ZIP, 1, 3)\n",
    "dat4los$ZIP <- NULL"
   ]
  },
  {
   "cell_type": "markdown",
   "metadata": {},
   "source": [
    "After this, we are left with only 24 columns for modeling:"
   ]
  },
  {
   "cell_type": "code",
   "execution_count": 22,
   "metadata": {
    "collapsed": false
   },
   "outputs": [
    {
     "data": {
      "text/html": [
       "<ol class=list-inline>\n",
       "\t<li>1103172</li>\n",
       "\t<li>24</li>\n",
       "</ol>\n"
      ],
      "text/latex": [
       "\\begin{enumerate*}\n",
       "\\item 1103172\n",
       "\\item 24\n",
       "\\end{enumerate*}\n"
      ],
      "text/markdown": [
       "1. 1103172\n",
       "2. 24\n",
       "\n",
       "\n"
      ],
      "text/plain": [
       "[1] 1103172      24"
      ]
     },
     "metadata": {},
     "output_type": "display_data"
    }
   ],
   "source": [
    "dim(dat4los)"
   ]
  },
  {
   "cell_type": "markdown",
   "metadata": {},
   "source": [
    "## Cast features and save the cleaned data\n",
    "\n",
    "Now we ensure that the data types for these columns are properly defined as categorical or numeric:"
   ]
  },
  {
   "cell_type": "code",
   "execution_count": 23,
   "metadata": {
    "collapsed": false
   },
   "outputs": [
    {
     "name": "stdout",
     "output_type": "stream",
     "text": [
      "'data.frame':\t1103172 obs. of  24 variables:\n",
      " $ AGE              : num  32 24 49 32 0 90 61 0 60 21 ...\n",
      " $ FEMALE           : Factor w/ 2 levels \"Female\",\"Male\": 1 2 1 1 1 1 1 2 2 1 ...\n",
      " $ RACE             : Factor w/ 7 levels \"-9\",\"1\",\"2\",\"3\",..: 2 1 2 3 2 2 2 6 2 2 ...\n",
      " $ MEDINCSTQ        : Factor w/ 4 levels \"1\",\"2\",\"3\",\"4\": 1 1 3 3 1 2 4 1 3 2 ...\n",
      " $ PSTATE           : Factor w/ 25 levels \"AK\",\"AR\",\"AZ\",..: 6 4 6 9 24 8 19 14 8 21 ...\n",
      " $ PAY1             : Factor w/ 6 levels \"1\",\"2\",\"3\",\"4\",..: 2 3 6 2 2 1 3 2 2 2 ...\n",
      " $ KEY              : int  1 2 3 4 5 6 7 8 9 10 ...\n",
      " $ VisitLink        : Factor w/ 1000000 levels \"ID.1\",\"ID.10\",..: 896051 348974 990082 300356 681789 669669 833392 732245 840761 523770 ...\n",
      " $ DSHOSPID         : Factor w/ 23 levels \"hosp_1\",\"hosp_10\",..: 9 5 3 15 23 1 1 6 16 20 ...\n",
      " $ ATYPE            : Factor w/ 5 levels \"ATYPE_1\",\"ATYPE_2\",..: 2 1 3 2 4 3 3 4 3 1 ...\n",
      " $ AMONTH           : Factor w/ 12 levels \"1\",\"10\",\"11\",..: 11 6 12 8 7 9 9 11 7 4 ...\n",
      " $ PointOfOriginUB04: Factor w/ 12 levels \"1\",\"2\",\"4\",\"5\",..: 3 1 5 7 5 5 1 1 1 4 ...\n",
      " $ TRAN_IN          : Factor w/ 3 levels \"0\",\"1\",\"2\": 2 1 3 1 3 3 1 1 1 1 ...\n",
      " $ DXCCS1           : Factor w/ 262 levels \"1\",\"10\",\"100\",..: 93 49 199 91 132 232 201 132 116 104 ...\n",
      " $ DXMCCS1          : Factor w/ 18 levels \"1\",\"10\",\"11\",..: 3 18 11 3 7 14 11 7 5 3 ...\n",
      " $ NDX              : num  1 1 1 1 1 2 1 1 1 1 ...\n",
      " $ NCHRONIC         : num  0 0 0 0 0 1 0 0 0 0 ...\n",
      " $ LOS              : num  2 2 2 1 2 15 3 1 3 1 ...\n",
      " $ num_DXPOA        : num  0 0 0 0 0 1 0 0 0 0 ...\n",
      " $ num_E_POA        : num  0 0 0 0 0 0 0 0 0 0 ...\n",
      " $ num_uCHRONB      : num  2 2 2 2 2 3 2 2 2 2 ...\n",
      " $ num_PAY          : num  1 1 1 1 1 1 1 1 1 1 ...\n",
      " $ num_CM           : num  2 0 3 2 0 1 3 0 3 1 ...\n",
      " $ ZIP3             : Factor w/ 26 levels \"320\",\"321\",\"322\",..: 14 26 3 15 17 19 11 15 16 6 ...\n"
     ]
    }
   ],
   "source": [
    "# make these columns categorical\n",
    "cat_cols <- c('DSHOSPID', 'FEMALE', 'RACE', 'ATYPE', 'AMONTH', 'PointOfOriginUB04', 'TRAN_IN',\n",
    "              'MEDINCSTQ', 'PSTATE', 'PAY1', 'DXCCS1', 'DXMCCS1', 'ZIP3')\n",
    "makecatg <- sapply(dat4los[, cat_cols], FUN=function(x){as.factor(x)})\n",
    "makecatg <- as.data.frame(makecatg)\n",
    "dat4los[, cat_cols] <- makecatg\n",
    "\n",
    "# make these columns numeric\n",
    "cat_num <- c('AGE', 'LOS', 'NDX', 'NCHRONIC', 'num_DXPOA', 'num_E_POA', 'num_uCHRONB', 'num_PAY', 'num_CM')\n",
    "makenum <- sapply(dat4los[, cat_num], FUN=function(x){as.numeric(x)})\n",
    "makenum <- as.data.frame(makenum)\n",
    "dat4los[, cat_num] <- makenum\n",
    "\n",
    "data_mod <- dat4los\n",
    "str(data_mod)"
   ]
  },
  {
   "cell_type": "markdown",
   "metadata": {},
   "source": [
    "As a sanity check, we enumerate the possible values of the categorical features specifically:"
   ]
  },
  {
   "cell_type": "code",
   "execution_count": 26,
   "metadata": {
    "collapsed": false
   },
   "outputs": [
    {
     "name": "stdout",
     "output_type": "stream",
     "text": [
      "List of 13\n",
      " $ DSHOSPID         : Factor w/ 23 levels \"hosp_1\",\"hosp_10\",..: 9 5 3 15 23 1 6 16 20 8 ...\n",
      " $ FEMALE           : Factor w/ 2 levels \"Female\",\"Male\": 1 2\n",
      " $ RACE             : Factor w/ 7 levels \"-9\",\"1\",\"2\",\"3\",..: 2 1 3 6 5 4 7\n",
      " $ ATYPE            : Factor w/ 5 levels \"ATYPE_1\",\"ATYPE_2\",..: 2 1 3 4 5\n",
      " $ AMONTH           : Factor w/ 12 levels \"1\",\"10\",\"11\",..: 11 6 12 8 7 9 4 5 1 2 ...\n",
      " $ PointOfOriginUB04: Factor w/ 12 levels \"1\",\"2\",\"4\",\"5\",..: 3 1 5 7 4 2 6 8 11 9 ...\n",
      " $ TRAN_IN          : Factor w/ 3 levels \"0\",\"1\",\"2\": 2 1 3\n",
      " $ MEDINCSTQ        : Factor w/ 4 levels \"1\",\"2\",\"3\",\"4\": 1 3 2 4\n",
      " $ PSTATE           : Factor w/ 25 levels \"AK\",\"AR\",\"AZ\",..: 6 4 9 24 8 19 14 21 23 10 ...\n",
      " $ PAY1             : Factor w/ 6 levels \"1\",\"2\",\"3\",\"4\",..: 2 3 6 1 4 5\n",
      " $ DXCCS1           : Factor w/ 262 levels \"1\",\"10\",\"100\",..: 93 49 199 91 132 232 201 116 104 64 ...\n",
      " $ DXMCCS1          : Factor w/ 18 levels \"1\",\"10\",\"11\",..: 3 18 11 7 14 5 2 8 13 NA ...\n",
      " $ ZIP3             : Factor w/ 26 levels \"320\",\"321\",\"322\",..: 14 26 3 15 17 19 11 16 6 10 ...\n"
     ]
    },
    {
     "data": {
      "text/html": [
       "<ol class=list-inline>\n",
       "\t<li>Female</li>\n",
       "\t<li>Male</li>\n",
       "</ol>\n"
      ],
      "text/latex": [
       "\\begin{enumerate*}\n",
       "\\item Female\n",
       "\\item Male\n",
       "\\end{enumerate*}\n"
      ],
      "text/markdown": [
       "1. Female\n",
       "2. Male\n",
       "\n",
       "\n"
      ],
      "text/plain": [
       "[1] Female Male  \n",
       "Levels: Female Male"
      ]
     },
     "metadata": {},
     "output_type": "display_data"
    },
    {
     "data": {
      "text/html": [
       "<ol class=list-inline>\n",
       "\t<li>1</li>\n",
       "\t<li>-9</li>\n",
       "\t<li>2</li>\n",
       "\t<li>5</li>\n",
       "\t<li>4</li>\n",
       "\t<li>3</li>\n",
       "\t<li>6</li>\n",
       "</ol>\n"
      ],
      "text/latex": [
       "\\begin{enumerate*}\n",
       "\\item 1\n",
       "\\item -9\n",
       "\\item 2\n",
       "\\item 5\n",
       "\\item 4\n",
       "\\item 3\n",
       "\\item 6\n",
       "\\end{enumerate*}\n"
      ],
      "text/markdown": [
       "1. 1\n",
       "2. -9\n",
       "3. 2\n",
       "4. 5\n",
       "5. 4\n",
       "6. 3\n",
       "7. 6\n",
       "\n",
       "\n"
      ],
      "text/plain": [
       "[1] 1  -9 2  5  4  3  6 \n",
       "Levels: -9 1 2 3 4 5 6"
      ]
     },
     "metadata": {},
     "output_type": "display_data"
    },
    {
     "name": "stdout",
     "output_type": "stream",
     "text": [
      "saved the cleaned data in:  C:/Users/mawah/Documents/GitHub/cortana-intelligence-population-health-management/ManualDeploymentGuide/Model"
     ]
    }
   ],
   "source": [
    "levelinfo <- sapply(dat4los[, cat_cols], FUN=function(x){unique(x)})\n",
    "str(levelinfo)\n",
    "levelinfo[['FEMALE']]\n",
    "levelinfo[['RACE']]\n",
    "save(levelinfo, file='listoflevels.Rdata')\n",
    "cat('saved the cleaned data in: ', getwd())"
   ]
  },
  {
   "cell_type": "markdown",
   "metadata": {},
   "source": [
    "### Define function to evaluate model performance\n",
    "\n",
    "Computes and returns the following common regression evaluation metrics:\n",
    "- Mean Absolute Error (MAE)\n",
    "- Root Mean Squared Error (RMSE)\n",
    "- Coefficient of determination (Rsquare), as a percentage\n",
    "- Relative Absolute Error (RAE)\n",
    "- Relative Squared Error (RSE)"
   ]
  },
  {
   "cell_type": "code",
   "execution_count": 28,
   "metadata": {
    "collapsed": true
   },
   "outputs": [],
   "source": [
    "regression_res <- function(Target, Prediction){\n",
    "  res <- data.frame(Target=Target, Scored.Labels=Prediction)\n",
    "  res$delta <- abs(res$Target - res$Scored.Labels)\n",
    "  res$percdelta <- res$delta / res$Target\n",
    "  n <- nrow(res)\n",
    "    \n",
    "  MAE <- sum(res$delta) / n  \n",
    "  RMSE <- sqrt(sum(res$delta ^ 2) / n)\n",
    "  Rsquare <- (cor(res$Target, res$Scored.Labels) ^ 2) * 100\n",
    "  RAE <- sum(res$delta) / sum(abs(mean(res$Target) - res$Target))\n",
    "  RSE <- sum(res$delta ^ 2) / sum(abs(mean(res$Target) - res$Target) ^ 2)\n",
    "  \n",
    "  results <- data.frame(MAE=MAE, RMSE=RMSE, RAE=RAE, RSE=RSE, Rsq=Rsquare)\n",
    "  return(results)\n",
    "}\n",
    "\n",
    "#create a data frame for storing training and testing metrics\n",
    "res_train <- data.frame(model_name='hosp_X_LOSmodel', MAE=0, RMSE=0, RAE=0, RSE=0, Rsq=0)\n",
    "res_train <- res_train[-1,]\n",
    "res_test <- data.frame(model_name='hosp_X_LOSmodel', MAE=0, RMSE=0, RAE=0, RSE=0, Rsq=0)\n",
    "res_test <- res_test[-1,]"
   ]
  },
  {
   "cell_type": "markdown",
   "metadata": {},
   "source": [
    " [Back To Top](#BackToTop)"
   ]
  },
  {
   "cell_type": "markdown",
   "metadata": {},
   "source": [
    "## Create the Models <a id=\"model\"></a>\n",
    "We will create 10 models for 10 individual hospitals and an additional model for all the other hospitals."
   ]
  },
  {
   "cell_type": "code",
   "execution_count": 23,
   "metadata": {
    "collapsed": false
   },
   "outputs": [
    {
     "data": {
      "text/html": [
       "<ol class=list-inline>\n",
       "\t<li>\"hosp_17\"</li>\n",
       "\t<li>\"hosp_13\"</li>\n",
       "\t<li>\"hosp_11\"</li>\n",
       "\t<li>\"hosp_22\"</li>\n",
       "\t<li>\"hosp_14\"</li>\n",
       "\t<li>\"hosp_23\"</li>\n",
       "\t<li>\"hosp_16\"</li>\n",
       "\t<li>\"hosp_12\"</li>\n",
       "\t<li>\"hosp_18\"</li>\n",
       "\t<li>\"hosp_15\"</li>\n",
       "\t<li>\"hosp_19\"</li>\n",
       "\t<li>\"hosp_21\"</li>\n",
       "\t<li>\"hosp_20\"</li>\n",
       "</ol>\n"
      ],
      "text/latex": [
       "\\begin{enumerate*}\n",
       "\\item \"hosp_17\"\n",
       "\\item \"hosp_13\"\n",
       "\\item \"hosp_11\"\n",
       "\\item \"hosp_22\"\n",
       "\\item \"hosp_14\"\n",
       "\\item \"hosp_23\"\n",
       "\\item \"hosp_16\"\n",
       "\\item \"hosp_12\"\n",
       "\\item \"hosp_18\"\n",
       "\\item \"hosp_15\"\n",
       "\\item \"hosp_19\"\n",
       "\\item \"hosp_21\"\n",
       "\\item \"hosp_20\"\n",
       "\\end{enumerate*}\n"
      ],
      "text/markdown": [
       "1. \"hosp_17\"\n",
       "2. \"hosp_13\"\n",
       "3. \"hosp_11\"\n",
       "4. \"hosp_22\"\n",
       "5. \"hosp_14\"\n",
       "6. \"hosp_23\"\n",
       "7. \"hosp_16\"\n",
       "8. \"hosp_12\"\n",
       "9. \"hosp_18\"\n",
       "10. \"hosp_15\"\n",
       "11. \"hosp_19\"\n",
       "12. \"hosp_21\"\n",
       "13. \"hosp_20\"\n",
       "\n",
       "\n"
      ],
      "text/plain": [
       " [1] \"hosp_17\" \"hosp_13\" \"hosp_11\" \"hosp_22\" \"hosp_14\" \"hosp_23\" \"hosp_16\"\n",
       " [8] \"hosp_12\" \"hosp_18\" \"hosp_15\" \"hosp_19\" \"hosp_21\" \"hosp_20\""
      ]
     },
     "execution_count": 23,
     "metadata": {},
     "output_type": "execute_result"
    }
   ],
   "source": [
    "selected_hosp <- c('hosp_1', 'hosp_2', 'hosp_3', 'hosp_4', 'hosp_5', 'hosp_6', 'hosp_7',\n",
    "                   'hosp_8', 'hosp_9', 'hosp_10')\n",
    "allotherhosp <- unique(data_mod$DSHOSPID)[!unique(data_mod$DSHOSPID) %in% selected_hosp]\n",
    "allotherhosp <- as.character(allotherhosp)\n",
    "allotherhosp"
   ]
  },
  {
   "cell_type": "markdown",
   "metadata": {},
   "source": [
    "For each model, we will split the available data into training and test sets with the following approach:\n",
    "- Attempt to evenly split the data in each level of `DXCCS1` (the categorical feature with the most levels) to create an initial train/test partitioning.\n",
    "- Because some categorical levels are rare, we may find that the training dataset does not contain some levels that are present in the test set. Remedy this by moving any such rows from the test set to the training set.\n",
    "- Ensure that no patients are present in both the training and test sets (by transferring half of any offending patients to the training set, and the other half to the test set)\n",
    "- Drop columns that we do not want to use for testing or training:\n",
    "   - `myrownum`, `KEY`, and `VisitLink`, because they are uninformative and could result in overfitting\n",
    "   - `DSHOSPID`, because most of our models will be trained on data from a single hospital"
   ]
  },
  {
   "cell_type": "code",
   "execution_count": 44,
   "metadata": {
    "collapsed": true
   },
   "outputs": [],
   "source": [
    "train_test_split <- function(input_dataset, p=0.6) {\n",
    "    set.seed(18)\n",
    "    train.index <- createDataPartition(sub_data_mod$DXCCS1, p=p, list=FALSE)\n",
    "    train <- sub_data_mod[train.index, ]\n",
    "    test  <- sub_data_mod[-train.index, ]\n",
    "    \n",
    "    indcc <- which(names(sub_data_mod) %in% cat_cols) # col indices for categorical cols\n",
    "    toaddtotrain <- test[1, ]\n",
    "    toaddtotrain <- toaddtotrain[-1, ]  # empty data frame to collect rows to add to train\n",
    "    for (cc in 1:length(indcc)){\n",
    "        toaddtotrain4cc <- test[!duplicated(test[, indcc[cc]]), ]  # same as unique\n",
    "        toaddtotrain <- rbind(toaddtotrain, toaddtotrain4cc)\n",
    "    }\n",
    "    toaddtotrain <- toaddtotrain[!duplicated(toaddtotrain$myrownum), ]\n",
    "    train_2 <- rbind(train, toaddtotrain)  # append rows to train\n",
    "    test_2  <- test[-which(test$myrownum %in% toaddtotrain$myrownum), ] # remove rows from test\n",
    "    \n",
    "    vk  <- unique(test_2$VisitLink)[unique(test_2$VisitLink) %in% unique(train_2$VisitLink)]\n",
    "    vk1 <- vk[1:round(length(vk) / 2)]\n",
    "    vk2 <- vk[(round(length(vk) / 2) + 1):length(vk)]\n",
    "    torm4mtest <- which(test_2$VisitLink %in% vk1)   # patient ids to remove from test\n",
    "    train_2 <- rbind(train_2, test_2[torm4mtest, ])  # append rows with these patients to train\n",
    "    test_2  <- test_2[-torm4mtest, ]                 # remove these patient rows from test\n",
    "    torm4mtrain <- which(train_2$VisitLink %in% vk2) # patient ids to remove from train\n",
    "    test_2  <- rbind(test_2, train_2[torm4mtrain, ]) # append rows with these patients to test\n",
    "    train_2 <- train_2[-torm4mtrain, ]               # remove these patient rows from train\n",
    "    \n",
    "    train_2$myrownum <- NULL\n",
    "    test_2$myrownum <- NULL\n",
    "    train_2$KEY <- NULL\n",
    "    test_2$KEY <- NULL\n",
    "    train_2$VisitLink <- NULL\n",
    "    test_2$VisitLink <- NULL\n",
    "    train_2$DSHOSPID <- NULL\n",
    "    test_2$DSHOSPID <- NULL\n",
    "    \n",
    "    return(list(train=train_2, test=test_2))\n",
    "}"
   ]
  },
  {
   "cell_type": "markdown",
   "metadata": {},
   "source": [
    "Create a folder in current working directory to save the trained models."
   ]
  },
  {
   "cell_type": "code",
   "execution_count": 31,
   "metadata": {
    "collapsed": false
   },
   "outputs": [
    {
     "data": {
      "text/html": [
       "'C:/Users/mawah/Documents/GitHub/cortana-intelligence-population-health-management/ManualDeploymentGuide/Model/myLOSmodelsfolder/'"
      ],
      "text/latex": [
       "'C:/Users/mawah/Documents/GitHub/cortana-intelligence-population-health-management/ManualDeploymentGuide/Model/myLOSmodelsfolder/'"
      ],
      "text/markdown": [
       "'C:/Users/mawah/Documents/GitHub/cortana-intelligence-population-health-management/ManualDeploymentGuide/Model/myLOSmodelsfolder/'"
      ],
      "text/plain": [
       "[1] \"C:/Users/mawah/Documents/GitHub/cortana-intelligence-population-health-management/ManualDeploymentGuide/Model/myLOSmodelsfolder/\""
      ]
     },
     "metadata": {},
     "output_type": "display_data"
    }
   ],
   "source": [
    "wrdir <- getwd()\n",
    "modeldir <- 'myLOSmodelsfolder'\n",
    "dir.create(file.path(wrdir, modeldir), showWarnings=FALSE)\n",
    "modelsLocation <- paste(wrdir, modeldir, sep='/')\n",
    "modelsLocation <- paste0(modelsLocation, '/')\n",
    "modelsLocation"
   ]
  },
  {
   "cell_type": "markdown",
   "metadata": {},
   "source": [
    "In this notebook, we will use a simple linear regression model. To use xgboost, please see the notebook \"Length Of Stay Models - xgboost\"."
   ]
  },
  {
   "cell_type": "code",
   "execution_count": null,
   "metadata": {
    "collapsed": false
   },
   "outputs": [],
   "source": [
    "if(!require(xgboost)) {\n",
    "    install.packages(\"xgboost\")\n",
    "    library(xgboost)\n",
    "}\n",
    "if(!require(caret)) {\n",
    "    install.packages(\"caret\")\n",
    "    library(caret)\n",
    "}"
   ]
  },
  {
   "cell_type": "markdown",
   "metadata": {},
   "source": [
    "Train all of the models and store data on their performance:"
   ]
  },
  {
   "cell_type": "code",
   "execution_count": null,
   "metadata": {
    "collapsed": false
   },
   "outputs": [],
   "source": [
    "for (h in 1:(length(selected_hosp) + 1)) {\n",
    "    cat('h =', h, '\\n')\n",
    "    if(h == (length(selected_hosp) + 1)) {\n",
    "        cat('allotherhosp', allotherhosp, '\\n')\n",
    "        sub_data_mod <- subset(data_mod, data_mod$DSHOSPID %in% allotherhosp)\n",
    "        cat(unique(as.character(sub_data_mod$DSHOSPID)), '\\n')\n",
    "        model_name <- paste('allotherhosp', '_LOSmodel', sep='')\n",
    "        model_name <- paste0(modelsLocation, model_name)\n",
    "        cat('model_name =' , model_name, '\\n')\n",
    "    } else {\n",
    "        cat('selected_hosp[h]', selected_hosp[h], '\\n')\n",
    "        sub_data_mod <- subset(data_mod, data_mod$DSHOSPID %in% selected_hosp[h])\n",
    "        cat(unique(as.character(sub_data_mod$DSHOSPID)), '\\n')\n",
    "        model_name <- paste(unique(as.character(sub_data_mod$DSHOSPID)), '_LOSmodel', sep='')\n",
    "        model_name <- paste0(modelsLocation, model_name)\n",
    "        cat('model_name =', model_name, '\\n')\n",
    "    }\n",
    "    sub_data_mod <- sub_data_mod[complete.cases(sub_data_mod), ] # ensure all rows are complete\n",
    "    sub_data_mod$myrownum <- seq(1:nrow(sub_data_mod))\n",
    "    dim(sub_data_mod)\n",
    "    \n",
    "    results <- train_test_split(sub_data_mod)\n",
    "    train <- results$train\n",
    "    test <- results$test\n",
    "  \n",
    "    # now have the data split into training and testing ~60% training and ~40% testing  \n",
    "    #----------------------------------------------------------------\n",
    "    # Tune and Run the model\n",
    "    mytarget     <- 'LOS'\n",
    "    mypredictors <- names(train)[!names(train) %in% mytarget]\n",
    "    myformulastr <- paste(mytarget, paste(mypredictors, collapse=\" + \"), sep=\" ~ \")\n",
    "    cat('myformulastr ', myformulastr, '\\n')\n",
    "\n",
    "    model_lm <- lm(as.formula(myformulastr), data=train)\n",
    "\n",
    "    # save the model as .rds\n",
    "    model_name_rds <- paste0(model_name, '.rds')\n",
    "    cat('saving model_name =', model_name_rds, '\\n')\n",
    "    saveRDS(model_lm, model_name_rds)\n",
    "   \n",
    "    # Check model performance\n",
    "    # model results - training data\n",
    "    y_predTr <- predict(model_lm, train)\n",
    "    TargetTr <- train$LOS\n",
    "\n",
    "    res_train_lm <- regression_res(TargetTr, y_predTr) # regression_res() is defined above\n",
    "    trn <- data.frame(model_name=as.character(as.data.frame(strsplit(model_name, split='/myLOSmodelsfolder/'))[2, 1]))\n",
    "    trn <- cbind(trn, res_train_lm)\n",
    "    res_train <- rbind(res_train, trn)\n",
    "\n",
    "    # check how the model does on test data\n",
    "    y_pred <- predict(model_lm, test)\n",
    "    y_pred <- ifelse(y_pred < 1, 1, y_pred) # correcting for negative values\n",
    "    Target <- test$LOS\n",
    "\n",
    "    res_test_lm <- regression_res(Target, y_pred)     # regression_res() is defined above\n",
    "    tst <- data.frame(model_name=as.character(as.data.frame(strsplit(model_name, split='/myLOSmodelsfolder/'))[2, 1]))\n",
    "    tst <- cbind(tst, res_test_lm)\n",
    "    res_test <- rbind(res_test, tst)\n",
    "}"
   ]
  },
  {
   "cell_type": "markdown",
   "metadata": {},
   "source": [
    " [Back To Top](#BackToTop)"
   ]
  },
  {
   "cell_type": "markdown",
   "metadata": {},
   "source": [
    "## Model Performance <a id=\"results\"></a>"
   ]
  },
  {
   "cell_type": "code",
   "execution_count": 49,
   "metadata": {
    "collapsed": false
   },
   "outputs": [
    {
     "name": "stdout",
     "output_type": "stream",
     "text": [
      "Performance on training data\n"
     ]
    },
    {
     "data": {
      "text/html": [
       "<table>\n",
       "<thead><tr><th scope=col>model_name</th><th scope=col>MAE</th><th scope=col>RMSE</th><th scope=col>RAE</th><th scope=col>RSE</th><th scope=col>Rsq</th></tr></thead>\n",
       "<tbody>\n",
       "\t<tr><td>hosp_1_LOSmodel      </td><td>1.761187             </td><td>3.056545             </td><td>0.5688672            </td><td>0.2793405            </td><td>72.06595             </td></tr>\n",
       "\t<tr><td>hosp_2_LOSmodel      </td><td>1.962650             </td><td>3.268309             </td><td>0.5477457            </td><td>0.2868737            </td><td>71.31263             </td></tr>\n",
       "\t<tr><td>hosp_3_LOSmodel      </td><td>2.070889             </td><td>3.632514             </td><td>0.5372024            </td><td>0.2408658            </td><td>75.91342             </td></tr>\n",
       "\t<tr><td>hosp_4_LOSmodel      </td><td>2.044856             </td><td>3.531632             </td><td>0.5375088            </td><td>0.2569438            </td><td>74.30562             </td></tr>\n",
       "\t<tr><td>hosp_5_LOSmodel      </td><td>1.855186             </td><td>3.009658             </td><td>0.5481659            </td><td>0.2669093            </td><td>73.30907             </td></tr>\n",
       "\t<tr><td>hosp_6_LOSmodel      </td><td>1.602218             </td><td>2.743962             </td><td>0.5363763            </td><td>0.2772800            </td><td>72.27200             </td></tr>\n",
       "\t<tr><td>hosp_7_LOSmodel      </td><td>1.678801             </td><td>2.753826             </td><td>0.5577385            </td><td>0.2686688            </td><td>73.13312             </td></tr>\n",
       "\t<tr><td>hosp_8_LOSmodel      </td><td>1.719537             </td><td>2.925290             </td><td>0.5573140            </td><td>0.2696085            </td><td>73.03915             </td></tr>\n",
       "\t<tr><td>hosp_9_LOSmodel      </td><td>1.899629             </td><td>3.127434             </td><td>0.5773648            </td><td>0.2965665            </td><td>70.34335             </td></tr>\n",
       "\t<tr><td>hosp_10_LOSmodel     </td><td>2.074107             </td><td>3.507936             </td><td>0.5383274            </td><td>0.2758796            </td><td>72.41204             </td></tr>\n",
       "\t<tr><td>allotherhosp_LOSmodel</td><td>1.807225             </td><td>3.042496             </td><td>0.5622529            </td><td>0.2883277            </td><td>71.16723             </td></tr>\n",
       "\t<tr><td>hosp_1_LOSmodel      </td><td>1.761187             </td><td>3.056545             </td><td>0.5688672            </td><td>0.2793405            </td><td>72.06595             </td></tr>\n",
       "\t<tr><td>hosp_2_LOSmodel      </td><td>1.962650             </td><td>3.268309             </td><td>0.5477457            </td><td>0.2868737            </td><td>71.31263             </td></tr>\n",
       "\t<tr><td>hosp_3_LOSmodel      </td><td>2.070889             </td><td>3.632514             </td><td>0.5372024            </td><td>0.2408658            </td><td>75.91342             </td></tr>\n",
       "\t<tr><td>hosp_4_LOSmodel      </td><td>2.044856             </td><td>3.531632             </td><td>0.5375088            </td><td>0.2569438            </td><td>74.30562             </td></tr>\n",
       "\t<tr><td>hosp_5_LOSmodel      </td><td>1.855186             </td><td>3.009658             </td><td>0.5481659            </td><td>0.2669093            </td><td>73.30907             </td></tr>\n",
       "\t<tr><td>hosp_6_LOSmodel      </td><td>1.602218             </td><td>2.743962             </td><td>0.5363763            </td><td>0.2772800            </td><td>72.27200             </td></tr>\n",
       "\t<tr><td>hosp_7_LOSmodel      </td><td>1.678801             </td><td>2.753826             </td><td>0.5577385            </td><td>0.2686688            </td><td>73.13312             </td></tr>\n",
       "\t<tr><td>hosp_8_LOSmodel      </td><td>1.719537             </td><td>2.925290             </td><td>0.5573140            </td><td>0.2696085            </td><td>73.03915             </td></tr>\n",
       "\t<tr><td>hosp_9_LOSmodel      </td><td>1.899629             </td><td>3.127434             </td><td>0.5773648            </td><td>0.2965665            </td><td>70.34335             </td></tr>\n",
       "\t<tr><td>hosp_10_LOSmodel     </td><td>2.074107             </td><td>3.507936             </td><td>0.5383274            </td><td>0.2758796            </td><td>72.41204             </td></tr>\n",
       "\t<tr><td>allotherhosp_LOSmodel</td><td>1.807225             </td><td>3.042496             </td><td>0.5622529            </td><td>0.2883277            </td><td>71.16723             </td></tr>\n",
       "</tbody>\n",
       "</table>\n"
      ],
      "text/latex": [
       "\\begin{tabular}{r|llllll}\n",
       " model\\_name & MAE & RMSE & RAE & RSE & Rsq\\\\\n",
       "\\hline\n",
       "\t hosp\\_1\\_LOSmodel       & 1.761187                  & 3.056545                  & 0.5688672                 & 0.2793405                 & 72.06595                 \\\\\n",
       "\t hosp\\_2\\_LOSmodel       & 1.962650                  & 3.268309                  & 0.5477457                 & 0.2868737                 & 71.31263                 \\\\\n",
       "\t hosp\\_3\\_LOSmodel       & 2.070889                  & 3.632514                  & 0.5372024                 & 0.2408658                 & 75.91342                 \\\\\n",
       "\t hosp\\_4\\_LOSmodel       & 2.044856                  & 3.531632                  & 0.5375088                 & 0.2569438                 & 74.30562                 \\\\\n",
       "\t hosp\\_5\\_LOSmodel       & 1.855186                  & 3.009658                  & 0.5481659                 & 0.2669093                 & 73.30907                 \\\\\n",
       "\t hosp\\_6\\_LOSmodel       & 1.602218                  & 2.743962                  & 0.5363763                 & 0.2772800                 & 72.27200                 \\\\\n",
       "\t hosp\\_7\\_LOSmodel       & 1.678801                  & 2.753826                  & 0.5577385                 & 0.2686688                 & 73.13312                 \\\\\n",
       "\t hosp\\_8\\_LOSmodel       & 1.719537                  & 2.925290                  & 0.5573140                 & 0.2696085                 & 73.03915                 \\\\\n",
       "\t hosp\\_9\\_LOSmodel       & 1.899629                  & 3.127434                  & 0.5773648                 & 0.2965665                 & 70.34335                 \\\\\n",
       "\t hosp\\_10\\_LOSmodel      & 2.074107                  & 3.507936                  & 0.5383274                 & 0.2758796                 & 72.41204                 \\\\\n",
       "\t allotherhosp\\_LOSmodel & 1.807225                & 3.042496                & 0.5622529               & 0.2883277               & 71.16723               \\\\\n",
       "\t hosp\\_1\\_LOSmodel       & 1.761187                  & 3.056545                  & 0.5688672                 & 0.2793405                 & 72.06595                 \\\\\n",
       "\t hosp\\_2\\_LOSmodel       & 1.962650                  & 3.268309                  & 0.5477457                 & 0.2868737                 & 71.31263                 \\\\\n",
       "\t hosp\\_3\\_LOSmodel       & 2.070889                  & 3.632514                  & 0.5372024                 & 0.2408658                 & 75.91342                 \\\\\n",
       "\t hosp\\_4\\_LOSmodel       & 2.044856                  & 3.531632                  & 0.5375088                 & 0.2569438                 & 74.30562                 \\\\\n",
       "\t hosp\\_5\\_LOSmodel       & 1.855186                  & 3.009658                  & 0.5481659                 & 0.2669093                 & 73.30907                 \\\\\n",
       "\t hosp\\_6\\_LOSmodel       & 1.602218                  & 2.743962                  & 0.5363763                 & 0.2772800                 & 72.27200                 \\\\\n",
       "\t hosp\\_7\\_LOSmodel       & 1.678801                  & 2.753826                  & 0.5577385                 & 0.2686688                 & 73.13312                 \\\\\n",
       "\t hosp\\_8\\_LOSmodel       & 1.719537                  & 2.925290                  & 0.5573140                 & 0.2696085                 & 73.03915                 \\\\\n",
       "\t hosp\\_9\\_LOSmodel       & 1.899629                  & 3.127434                  & 0.5773648                 & 0.2965665                 & 70.34335                 \\\\\n",
       "\t hosp\\_10\\_LOSmodel      & 2.074107                  & 3.507936                  & 0.5383274                 & 0.2758796                 & 72.41204                 \\\\\n",
       "\t allotherhosp\\_LOSmodel & 1.807225                & 3.042496                & 0.5622529               & 0.2883277               & 71.16723               \\\\\n",
       "\\end{tabular}\n"
      ],
      "text/markdown": [
       "\n",
       "model_name | MAE | RMSE | RAE | RSE | Rsq | \n",
       "|---|---|---|---|---|---|---|---|---|---|---|---|---|---|---|---|---|---|---|---|---|---|\n",
       "| hosp_1_LOSmodel       | 1.761187              | 3.056545              | 0.5688672             | 0.2793405             | 72.06595              | \n",
       "| hosp_2_LOSmodel       | 1.962650              | 3.268309              | 0.5477457             | 0.2868737             | 71.31263              | \n",
       "| hosp_3_LOSmodel       | 2.070889              | 3.632514              | 0.5372024             | 0.2408658             | 75.91342              | \n",
       "| hosp_4_LOSmodel       | 2.044856              | 3.531632              | 0.5375088             | 0.2569438             | 74.30562              | \n",
       "| hosp_5_LOSmodel       | 1.855186              | 3.009658              | 0.5481659             | 0.2669093             | 73.30907              | \n",
       "| hosp_6_LOSmodel       | 1.602218              | 2.743962              | 0.5363763             | 0.2772800             | 72.27200              | \n",
       "| hosp_7_LOSmodel       | 1.678801              | 2.753826              | 0.5577385             | 0.2686688             | 73.13312              | \n",
       "| hosp_8_LOSmodel       | 1.719537              | 2.925290              | 0.5573140             | 0.2696085             | 73.03915              | \n",
       "| hosp_9_LOSmodel       | 1.899629              | 3.127434              | 0.5773648             | 0.2965665             | 70.34335              | \n",
       "| hosp_10_LOSmodel      | 2.074107              | 3.507936              | 0.5383274             | 0.2758796             | 72.41204              | \n",
       "| allotherhosp_LOSmodel | 1.807225              | 3.042496              | 0.5622529             | 0.2883277             | 71.16723              | \n",
       "| hosp_1_LOSmodel       | 1.761187              | 3.056545              | 0.5688672             | 0.2793405             | 72.06595              | \n",
       "| hosp_2_LOSmodel       | 1.962650              | 3.268309              | 0.5477457             | 0.2868737             | 71.31263              | \n",
       "| hosp_3_LOSmodel       | 2.070889              | 3.632514              | 0.5372024             | 0.2408658             | 75.91342              | \n",
       "| hosp_4_LOSmodel       | 2.044856              | 3.531632              | 0.5375088             | 0.2569438             | 74.30562              | \n",
       "| hosp_5_LOSmodel       | 1.855186              | 3.009658              | 0.5481659             | 0.2669093             | 73.30907              | \n",
       "| hosp_6_LOSmodel       | 1.602218              | 2.743962              | 0.5363763             | 0.2772800             | 72.27200              | \n",
       "| hosp_7_LOSmodel       | 1.678801              | 2.753826              | 0.5577385             | 0.2686688             | 73.13312              | \n",
       "| hosp_8_LOSmodel       | 1.719537              | 2.925290              | 0.5573140             | 0.2696085             | 73.03915              | \n",
       "| hosp_9_LOSmodel       | 1.899629              | 3.127434              | 0.5773648             | 0.2965665             | 70.34335              | \n",
       "| hosp_10_LOSmodel      | 2.074107              | 3.507936              | 0.5383274             | 0.2758796             | 72.41204              | \n",
       "| allotherhosp_LOSmodel | 1.807225              | 3.042496              | 0.5622529             | 0.2883277             | 71.16723              | \n",
       "\n",
       "\n"
      ],
      "text/plain": [
       "   model_name            MAE      RMSE     RAE       RSE       Rsq     \n",
       "1  hosp_1_LOSmodel       1.761187 3.056545 0.5688672 0.2793405 72.06595\n",
       "2  hosp_2_LOSmodel       1.962650 3.268309 0.5477457 0.2868737 71.31263\n",
       "3  hosp_3_LOSmodel       2.070889 3.632514 0.5372024 0.2408658 75.91342\n",
       "4  hosp_4_LOSmodel       2.044856 3.531632 0.5375088 0.2569438 74.30562\n",
       "5  hosp_5_LOSmodel       1.855186 3.009658 0.5481659 0.2669093 73.30907\n",
       "6  hosp_6_LOSmodel       1.602218 2.743962 0.5363763 0.2772800 72.27200\n",
       "7  hosp_7_LOSmodel       1.678801 2.753826 0.5577385 0.2686688 73.13312\n",
       "8  hosp_8_LOSmodel       1.719537 2.925290 0.5573140 0.2696085 73.03915\n",
       "9  hosp_9_LOSmodel       1.899629 3.127434 0.5773648 0.2965665 70.34335\n",
       "10 hosp_10_LOSmodel      2.074107 3.507936 0.5383274 0.2758796 72.41204\n",
       "11 allotherhosp_LOSmodel 1.807225 3.042496 0.5622529 0.2883277 71.16723\n",
       "12 hosp_1_LOSmodel       1.761187 3.056545 0.5688672 0.2793405 72.06595\n",
       "13 hosp_2_LOSmodel       1.962650 3.268309 0.5477457 0.2868737 71.31263\n",
       "14 hosp_3_LOSmodel       2.070889 3.632514 0.5372024 0.2408658 75.91342\n",
       "15 hosp_4_LOSmodel       2.044856 3.531632 0.5375088 0.2569438 74.30562\n",
       "16 hosp_5_LOSmodel       1.855186 3.009658 0.5481659 0.2669093 73.30907\n",
       "17 hosp_6_LOSmodel       1.602218 2.743962 0.5363763 0.2772800 72.27200\n",
       "18 hosp_7_LOSmodel       1.678801 2.753826 0.5577385 0.2686688 73.13312\n",
       "19 hosp_8_LOSmodel       1.719537 2.925290 0.5573140 0.2696085 73.03915\n",
       "20 hosp_9_LOSmodel       1.899629 3.127434 0.5773648 0.2965665 70.34335\n",
       "21 hosp_10_LOSmodel      2.074107 3.507936 0.5383274 0.2758796 72.41204\n",
       "22 allotherhosp_LOSmodel 1.807225 3.042496 0.5622529 0.2883277 71.16723"
      ]
     },
     "metadata": {},
     "output_type": "display_data"
    },
    {
     "name": "stdout",
     "output_type": "stream",
     "text": [
      "Performance on test data\n"
     ]
    },
    {
     "data": {
      "text/html": [
       "<table>\n",
       "<thead><tr><th scope=col>model_name</th><th scope=col>MAE</th><th scope=col>RMSE</th><th scope=col>RAE</th><th scope=col>RSE</th><th scope=col>Rsq</th></tr></thead>\n",
       "<tbody>\n",
       "\t<tr><td>hosp_1_LOSmodel      </td><td>1.671868             </td><td>3.041515             </td><td>0.5335986            </td><td>0.2826987            </td><td>71.79091             </td></tr>\n",
       "\t<tr><td>hosp_2_LOSmodel      </td><td>1.850933             </td><td>3.222738             </td><td>0.5216710            </td><td>0.2773806            </td><td>72.41747             </td></tr>\n",
       "\t<tr><td>hosp_3_LOSmodel      </td><td>1.958407             </td><td>3.961695             </td><td>0.5054750            </td><td>0.2568631            </td><td>74.47601             </td></tr>\n",
       "\t<tr><td>hosp_4_LOSmodel      </td><td>1.946494             </td><td>3.559375             </td><td>0.5069730            </td><td>0.2705469            </td><td>73.02307             </td></tr>\n",
       "\t<tr><td>hosp_5_LOSmodel      </td><td>1.769977             </td><td>3.020131             </td><td>0.5298543            </td><td>0.2670209            </td><td>73.34981             </td></tr>\n",
       "\t<tr><td>hosp_6_LOSmodel      </td><td>1.552580             </td><td>2.950353             </td><td>0.5158293            </td><td>0.2874858            </td><td>71.54671             </td></tr>\n",
       "\t<tr><td>hosp_7_LOSmodel      </td><td>1.630344             </td><td>2.940318             </td><td>0.5343276            </td><td>0.2665996            </td><td>73.36230             </td></tr>\n",
       "\t<tr><td>hosp_8_LOSmodel      </td><td>1.649459             </td><td>2.930763             </td><td>0.5354212            </td><td>0.2941037            </td><td>70.61512             </td></tr>\n",
       "\t<tr><td>hosp_9_LOSmodel      </td><td>1.802536             </td><td>3.045456             </td><td>0.5526677            </td><td>0.2916476            </td><td>70.89384             </td></tr>\n",
       "\t<tr><td>hosp_10_LOSmodel     </td><td>1.991844             </td><td>3.548127             </td><td>0.5239971            </td><td>0.2913907            </td><td>71.05457             </td></tr>\n",
       "\t<tr><td>allotherhosp_LOSmodel</td><td>1.709717             </td><td>3.027096             </td><td>0.5306662            </td><td>0.2838656            </td><td>71.70387             </td></tr>\n",
       "\t<tr><td>hosp_1_LOSmodel      </td><td>1.671868             </td><td>3.041515             </td><td>0.5335986            </td><td>0.2826987            </td><td>71.79091             </td></tr>\n",
       "\t<tr><td>hosp_2_LOSmodel      </td><td>1.850933             </td><td>3.222738             </td><td>0.5216710            </td><td>0.2773806            </td><td>72.41747             </td></tr>\n",
       "\t<tr><td>hosp_3_LOSmodel      </td><td>1.958407             </td><td>3.961695             </td><td>0.5054750            </td><td>0.2568631            </td><td>74.47601             </td></tr>\n",
       "\t<tr><td>hosp_4_LOSmodel      </td><td>1.946494             </td><td>3.559375             </td><td>0.5069730            </td><td>0.2705469            </td><td>73.02307             </td></tr>\n",
       "\t<tr><td>hosp_5_LOSmodel      </td><td>1.769977             </td><td>3.020131             </td><td>0.5298543            </td><td>0.2670209            </td><td>73.34981             </td></tr>\n",
       "\t<tr><td>hosp_6_LOSmodel      </td><td>1.552580             </td><td>2.950353             </td><td>0.5158293            </td><td>0.2874858            </td><td>71.54671             </td></tr>\n",
       "\t<tr><td>hosp_7_LOSmodel      </td><td>1.630344             </td><td>2.940318             </td><td>0.5343276            </td><td>0.2665996            </td><td>73.36230             </td></tr>\n",
       "\t<tr><td>hosp_8_LOSmodel      </td><td>1.649459             </td><td>2.930763             </td><td>0.5354212            </td><td>0.2941037            </td><td>70.61512             </td></tr>\n",
       "\t<tr><td>hosp_9_LOSmodel      </td><td>1.802536             </td><td>3.045456             </td><td>0.5526677            </td><td>0.2916476            </td><td>70.89384             </td></tr>\n",
       "\t<tr><td>hosp_10_LOSmodel     </td><td>1.991844             </td><td>3.548127             </td><td>0.5239971            </td><td>0.2913907            </td><td>71.05457             </td></tr>\n",
       "\t<tr><td>allotherhosp_LOSmodel</td><td>1.709717             </td><td>3.027096             </td><td>0.5306662            </td><td>0.2838656            </td><td>71.70387             </td></tr>\n",
       "</tbody>\n",
       "</table>\n"
      ],
      "text/latex": [
       "\\begin{tabular}{r|llllll}\n",
       " model\\_name & MAE & RMSE & RAE & RSE & Rsq\\\\\n",
       "\\hline\n",
       "\t hosp\\_1\\_LOSmodel       & 1.671868                  & 3.041515                  & 0.5335986                 & 0.2826987                 & 71.79091                 \\\\\n",
       "\t hosp\\_2\\_LOSmodel       & 1.850933                  & 3.222738                  & 0.5216710                 & 0.2773806                 & 72.41747                 \\\\\n",
       "\t hosp\\_3\\_LOSmodel       & 1.958407                  & 3.961695                  & 0.5054750                 & 0.2568631                 & 74.47601                 \\\\\n",
       "\t hosp\\_4\\_LOSmodel       & 1.946494                  & 3.559375                  & 0.5069730                 & 0.2705469                 & 73.02307                 \\\\\n",
       "\t hosp\\_5\\_LOSmodel       & 1.769977                  & 3.020131                  & 0.5298543                 & 0.2670209                 & 73.34981                 \\\\\n",
       "\t hosp\\_6\\_LOSmodel       & 1.552580                  & 2.950353                  & 0.5158293                 & 0.2874858                 & 71.54671                 \\\\\n",
       "\t hosp\\_7\\_LOSmodel       & 1.630344                  & 2.940318                  & 0.5343276                 & 0.2665996                 & 73.36230                 \\\\\n",
       "\t hosp\\_8\\_LOSmodel       & 1.649459                  & 2.930763                  & 0.5354212                 & 0.2941037                 & 70.61512                 \\\\\n",
       "\t hosp\\_9\\_LOSmodel       & 1.802536                  & 3.045456                  & 0.5526677                 & 0.2916476                 & 70.89384                 \\\\\n",
       "\t hosp\\_10\\_LOSmodel      & 1.991844                  & 3.548127                  & 0.5239971                 & 0.2913907                 & 71.05457                 \\\\\n",
       "\t allotherhosp\\_LOSmodel & 1.709717                & 3.027096                & 0.5306662               & 0.2838656               & 71.70387               \\\\\n",
       "\t hosp\\_1\\_LOSmodel       & 1.671868                  & 3.041515                  & 0.5335986                 & 0.2826987                 & 71.79091                 \\\\\n",
       "\t hosp\\_2\\_LOSmodel       & 1.850933                  & 3.222738                  & 0.5216710                 & 0.2773806                 & 72.41747                 \\\\\n",
       "\t hosp\\_3\\_LOSmodel       & 1.958407                  & 3.961695                  & 0.5054750                 & 0.2568631                 & 74.47601                 \\\\\n",
       "\t hosp\\_4\\_LOSmodel       & 1.946494                  & 3.559375                  & 0.5069730                 & 0.2705469                 & 73.02307                 \\\\\n",
       "\t hosp\\_5\\_LOSmodel       & 1.769977                  & 3.020131                  & 0.5298543                 & 0.2670209                 & 73.34981                 \\\\\n",
       "\t hosp\\_6\\_LOSmodel       & 1.552580                  & 2.950353                  & 0.5158293                 & 0.2874858                 & 71.54671                 \\\\\n",
       "\t hosp\\_7\\_LOSmodel       & 1.630344                  & 2.940318                  & 0.5343276                 & 0.2665996                 & 73.36230                 \\\\\n",
       "\t hosp\\_8\\_LOSmodel       & 1.649459                  & 2.930763                  & 0.5354212                 & 0.2941037                 & 70.61512                 \\\\\n",
       "\t hosp\\_9\\_LOSmodel       & 1.802536                  & 3.045456                  & 0.5526677                 & 0.2916476                 & 70.89384                 \\\\\n",
       "\t hosp\\_10\\_LOSmodel      & 1.991844                  & 3.548127                  & 0.5239971                 & 0.2913907                 & 71.05457                 \\\\\n",
       "\t allotherhosp\\_LOSmodel & 1.709717                & 3.027096                & 0.5306662               & 0.2838656               & 71.70387               \\\\\n",
       "\\end{tabular}\n"
      ],
      "text/markdown": [
       "\n",
       "model_name | MAE | RMSE | RAE | RSE | Rsq | \n",
       "|---|---|---|---|---|---|---|---|---|---|---|---|---|---|---|---|---|---|---|---|---|---|\n",
       "| hosp_1_LOSmodel       | 1.671868              | 3.041515              | 0.5335986             | 0.2826987             | 71.79091              | \n",
       "| hosp_2_LOSmodel       | 1.850933              | 3.222738              | 0.5216710             | 0.2773806             | 72.41747              | \n",
       "| hosp_3_LOSmodel       | 1.958407              | 3.961695              | 0.5054750             | 0.2568631             | 74.47601              | \n",
       "| hosp_4_LOSmodel       | 1.946494              | 3.559375              | 0.5069730             | 0.2705469             | 73.02307              | \n",
       "| hosp_5_LOSmodel       | 1.769977              | 3.020131              | 0.5298543             | 0.2670209             | 73.34981              | \n",
       "| hosp_6_LOSmodel       | 1.552580              | 2.950353              | 0.5158293             | 0.2874858             | 71.54671              | \n",
       "| hosp_7_LOSmodel       | 1.630344              | 2.940318              | 0.5343276             | 0.2665996             | 73.36230              | \n",
       "| hosp_8_LOSmodel       | 1.649459              | 2.930763              | 0.5354212             | 0.2941037             | 70.61512              | \n",
       "| hosp_9_LOSmodel       | 1.802536              | 3.045456              | 0.5526677             | 0.2916476             | 70.89384              | \n",
       "| hosp_10_LOSmodel      | 1.991844              | 3.548127              | 0.5239971             | 0.2913907             | 71.05457              | \n",
       "| allotherhosp_LOSmodel | 1.709717              | 3.027096              | 0.5306662             | 0.2838656             | 71.70387              | \n",
       "| hosp_1_LOSmodel       | 1.671868              | 3.041515              | 0.5335986             | 0.2826987             | 71.79091              | \n",
       "| hosp_2_LOSmodel       | 1.850933              | 3.222738              | 0.5216710             | 0.2773806             | 72.41747              | \n",
       "| hosp_3_LOSmodel       | 1.958407              | 3.961695              | 0.5054750             | 0.2568631             | 74.47601              | \n",
       "| hosp_4_LOSmodel       | 1.946494              | 3.559375              | 0.5069730             | 0.2705469             | 73.02307              | \n",
       "| hosp_5_LOSmodel       | 1.769977              | 3.020131              | 0.5298543             | 0.2670209             | 73.34981              | \n",
       "| hosp_6_LOSmodel       | 1.552580              | 2.950353              | 0.5158293             | 0.2874858             | 71.54671              | \n",
       "| hosp_7_LOSmodel       | 1.630344              | 2.940318              | 0.5343276             | 0.2665996             | 73.36230              | \n",
       "| hosp_8_LOSmodel       | 1.649459              | 2.930763              | 0.5354212             | 0.2941037             | 70.61512              | \n",
       "| hosp_9_LOSmodel       | 1.802536              | 3.045456              | 0.5526677             | 0.2916476             | 70.89384              | \n",
       "| hosp_10_LOSmodel      | 1.991844              | 3.548127              | 0.5239971             | 0.2913907             | 71.05457              | \n",
       "| allotherhosp_LOSmodel | 1.709717              | 3.027096              | 0.5306662             | 0.2838656             | 71.70387              | \n",
       "\n",
       "\n"
      ],
      "text/plain": [
       "   model_name            MAE      RMSE     RAE       RSE       Rsq     \n",
       "1  hosp_1_LOSmodel       1.671868 3.041515 0.5335986 0.2826987 71.79091\n",
       "2  hosp_2_LOSmodel       1.850933 3.222738 0.5216710 0.2773806 72.41747\n",
       "3  hosp_3_LOSmodel       1.958407 3.961695 0.5054750 0.2568631 74.47601\n",
       "4  hosp_4_LOSmodel       1.946494 3.559375 0.5069730 0.2705469 73.02307\n",
       "5  hosp_5_LOSmodel       1.769977 3.020131 0.5298543 0.2670209 73.34981\n",
       "6  hosp_6_LOSmodel       1.552580 2.950353 0.5158293 0.2874858 71.54671\n",
       "7  hosp_7_LOSmodel       1.630344 2.940318 0.5343276 0.2665996 73.36230\n",
       "8  hosp_8_LOSmodel       1.649459 2.930763 0.5354212 0.2941037 70.61512\n",
       "9  hosp_9_LOSmodel       1.802536 3.045456 0.5526677 0.2916476 70.89384\n",
       "10 hosp_10_LOSmodel      1.991844 3.548127 0.5239971 0.2913907 71.05457\n",
       "11 allotherhosp_LOSmodel 1.709717 3.027096 0.5306662 0.2838656 71.70387\n",
       "12 hosp_1_LOSmodel       1.671868 3.041515 0.5335986 0.2826987 71.79091\n",
       "13 hosp_2_LOSmodel       1.850933 3.222738 0.5216710 0.2773806 72.41747\n",
       "14 hosp_3_LOSmodel       1.958407 3.961695 0.5054750 0.2568631 74.47601\n",
       "15 hosp_4_LOSmodel       1.946494 3.559375 0.5069730 0.2705469 73.02307\n",
       "16 hosp_5_LOSmodel       1.769977 3.020131 0.5298543 0.2670209 73.34981\n",
       "17 hosp_6_LOSmodel       1.552580 2.950353 0.5158293 0.2874858 71.54671\n",
       "18 hosp_7_LOSmodel       1.630344 2.940318 0.5343276 0.2665996 73.36230\n",
       "19 hosp_8_LOSmodel       1.649459 2.930763 0.5354212 0.2941037 70.61512\n",
       "20 hosp_9_LOSmodel       1.802536 3.045456 0.5526677 0.2916476 70.89384\n",
       "21 hosp_10_LOSmodel      1.991844 3.548127 0.5239971 0.2913907 71.05457\n",
       "22 allotherhosp_LOSmodel 1.709717 3.027096 0.5306662 0.2838656 71.70387"
      ]
     },
     "metadata": {},
     "output_type": "display_data"
    }
   ],
   "source": [
    "cat('Performance on training data\\n')\n",
    "res_train\n",
    "cat('Performance on test data\\n')\n",
    "res_test"
   ]
  }
 ],
 "metadata": {
  "kernelspec": {
   "display_name": "R",
   "language": "R",
   "name": "ir"
  },
  "language_info": {
   "codemirror_mode": "r",
   "file_extension": ".r",
   "mimetype": "text/x-r-source",
   "name": "R",
   "pygments_lexer": "r",
   "version": "3.4.0"
  }
 },
 "nbformat": 4,
 "nbformat_minor": 0
}
