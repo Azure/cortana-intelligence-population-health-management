{
 "cells": [
  {
   "cell_type": "markdown",
   "metadata": {},
   "source": [
    "# Read HCUP Data\n"
   ]
  },
  {
   "cell_type": "markdown",
   "metadata": {
    "collapsed": true
   },
   "source": [
    "In this notebook, we will demonstrate how to read Healthcare Cost and Utilization Project ([HCUP](https://www.hcup-us.ahrq.gov/)) State Inpatient Data ([SID](https://www.hcup-us.ahrq.gov/sidoverview.jsp)) data for analysis and modelling. The HCUP is the largest collection of longitudinal hospital care data in the United States. The data can be purchased from [here](https://www.hcup-us.ahrq.gov/tech_assist/centdist.jsp).\n",
    "\n",
    "The HCUP SID dataset consists of four files in ASCII format:\n",
    "- Core data, including diagnoses, procedures, and patient demographics [[sample](https://github.com/Azure/cortana-intelligence-population-health-management/blob/master/Azure%20Data%20Lake/ManualDeploymentGuide/Model/SampleHCUPdata/Sample_WA_SID_2011_CORE.asc) | [full description](https://www.hcup-us.ahrq.gov/db/state/sidc/tools/filespecs/WA_SID_2011_CORE.loc)]\n",
    "- Charges associated with each inpatient visit [[sample](https://github.com/Azure/cortana-intelligence-population-health-management/blob/master/Azure%20Data%20Lake/ManualDeploymentGuide/Model/SampleHCUPdata/Sample_WA_SID_2011_CHGS.asc) | [full description](https://www.hcup-us.ahrq.gov/db/state/sidc/tools/filespecs/WA_SID_2011_CHGS.loc)]\n",
    "- Severity of pre-existing conditions that may affect outcomes [[sample](https://github.com/Azure/cortana-intelligence-population-health-management/blob/master/Azure%20Data%20Lake/ManualDeploymentGuide/Model/SampleHCUPdata/Sample_WA_SID_2011_SEVERITY.asc) | [full description](https://www.hcup-us.ahrq.gov/db/state/sidc/tools/filespecs/WA_SID_2011_SEVERITY.loc)]  \n",
    "- Diagnostic and procedure groups [[sample](https://github.com/Azure/cortana-intelligence-population-health-management/blob/master/Azure%20Data%20Lake/ManualDeploymentGuide/Model/SampleHCUPdata/Sample_WA_SID_2011_DX_PR_GRPS.asc) | [full description](https://www.hcup-us.ahrq.gov/db/state/sidc/tools/filespecs/WA_SID_2011_DX_PR_GRPS.loc)] \n",
    "\n",
    "We will use these description files to help convert the sample ASCII data files to CSV files with headers, which we will then use for subsequent analysis. We include some description of the process in annotated code for the first file, as well as unannotated code for processing the remaining files and combining them into a single CSV file."
   ]
  },
  {
   "cell_type": "code",
   "execution_count": 1,
   "metadata": {},
   "outputs": [
    {
     "data": {
      "text/html": [
       "<table>\n",
       "<thead><tr><th></th><th scope=col>used</th><th scope=col>(Mb)</th><th scope=col>gc trigger</th><th scope=col>(Mb)</th><th scope=col>max used</th><th scope=col>(Mb)</th></tr></thead>\n",
       "<tbody>\n",
       "\t<tr><th scope=row>Ncells</th><td>440515 </td><td>23.6   </td><td> 750400</td><td>40.1   </td><td>592000 </td><td>31.7   </td></tr>\n",
       "\t<tr><th scope=row>Vcells</th><td>812815 </td><td> 6.3   </td><td>1650153</td><td>12.6   </td><td>965682 </td><td> 7.4   </td></tr>\n",
       "</tbody>\n",
       "</table>\n"
      ],
      "text/latex": [
       "\\begin{tabular}{r|llllll}\n",
       "  & used & (Mb) & gc trigger & (Mb) & max used & (Mb)\\\\\n",
       "\\hline\n",
       "\tNcells & 440515  & 23.6    &  750400 & 40.1    & 592000  & 31.7   \\\\\n",
       "\tVcells & 812815  &  6.3    & 1650153 & 12.6    & 965682  &  7.4   \\\\\n",
       "\\end{tabular}\n"
      ],
      "text/markdown": [
       "\n",
       "| <!--/--> | used | (Mb) | gc trigger | (Mb) | max used | (Mb) | \n",
       "|---|---|\n",
       "| Ncells | 440515  | 23.6    |  750400 | 40.1    | 592000  | 31.7    | \n",
       "| Vcells | 812815  |  6.3    | 1650153 | 12.6    | 965682  |  7.4    | \n",
       "\n",
       "\n"
      ],
      "text/plain": [
       "       used   (Mb) gc trigger (Mb) max used (Mb)\n",
       "Ncells 440515 23.6  750400    40.1 592000   31.7\n",
       "Vcells 812815  6.3 1650153    12.6 965682    7.4"
      ]
     },
     "metadata": {},
     "output_type": "display_data"
    }
   ],
   "source": [
    "# clear workspace and collect garbage\n",
    "rm(list=ls())\n",
    "gc()"
   ]
  },
  {
   "cell_type": "markdown",
   "metadata": {},
   "source": [
    "## Annotated example: parsing the core dataset\n",
    "\n",
    "We first download the dataset description file, which contains 20 lines of header information followed by lines containing data in fixed-width columns. We define the beginning and end positions of each fixed-width column in `str_start` and `str_end`, then use `read.fwf()` to parse the fixed-width file into a dataframe."
   ]
  },
  {
   "cell_type": "code",
   "execution_count": 2,
   "metadata": {},
   "outputs": [
    {
     "data": {
      "text/html": [
       "<table>\n",
       "<thead><tr><th scope=col>V1</th><th scope=col>V2</th><th scope=col>V3</th><th scope=col>V4</th><th scope=col>V5</th><th scope=col>V6</th><th scope=col>V7</th><th scope=col>V8</th><th scope=col>V9</th><th scope=col>V10</th></tr></thead>\n",
       "<tbody>\n",
       "\t<tr><td>WA                                 </td><td>2011                               </td><td>CORE                               </td><td>1                                  </td><td>AGE                                </td><td> 1                                 </td><td> 3                                 </td><td>NA                                 </td><td>Num                                </td><td>Age in years at admission          </td></tr>\n",
       "\t<tr><td><span style=white-space:pre-wrap>WA  </span>                                  </td><td>2011                                                                          </td><td><span style=white-space:pre-wrap>CORE             </span>                     </td><td>2                                                                             </td><td><span style=white-space:pre-wrap>AGEDAY                     </span>           </td><td> 4                                                                            </td><td> 6                                                                            </td><td>NA                                                                            </td><td><span style=white-space:pre-wrap>Num  </span>                                 </td><td><span style=white-space:pre-wrap>Age in days (when age &lt; 1 year)    </span></td></tr>\n",
       "\t<tr><td><span style=white-space:pre-wrap>WA  </span>                       </td><td>2011                                                               </td><td><span style=white-space:pre-wrap>CORE             </span>          </td><td>3                                                                  </td><td><span style=white-space:pre-wrap>AGEMONTH                   </span></td><td> 7                                                                 </td><td> 9                                                                 </td><td>NA                                                                 </td><td><span style=white-space:pre-wrap>Num  </span>                      </td><td>Age in months (when age &lt; 11 years)                             </td></tr>\n",
       "\t<tr><td>WA                                 </td><td>2011                               </td><td>CORE                               </td><td>4                                  </td><td>AHOUR                              </td><td>10                                 </td><td>13                                 </td><td>NA                                 </td><td>Num                                </td><td>Admission Hour                     </td></tr>\n",
       "\t<tr><td>WA                                 </td><td>2011                               </td><td>CORE                               </td><td>5                                  </td><td>AMONTH                             </td><td>14                                 </td><td>15                                 </td><td>NA                                 </td><td>Num                                </td><td>Admission month                    </td></tr>\n",
       "\t<tr><td>WA                                 </td><td>2011                               </td><td>CORE                               </td><td>6                                  </td><td>ATYPE                              </td><td>16                                 </td><td>17                                 </td><td>NA                                 </td><td>Num                                </td><td>Admission type                     </td></tr>\n",
       "</tbody>\n",
       "</table>\n"
      ],
      "text/latex": [
       "\\begin{tabular}{r|llllllllll}\n",
       " V1 & V2 & V3 & V4 & V5 & V6 & V7 & V8 & V9 & V10\\\\\n",
       "\\hline\n",
       "\t WA                                  & 2011                                & CORE                                & 1                                   & AGE                                 &  1                                  &  3                                  & NA                                  & Num                                 & Age in years at admission          \\\\\n",
       "\t WA                                  & 2011                                & CORE                                & 2                                   & AGEDAY                              &  4                                  &  6                                  & NA                                  & Num                                 & Age in days (when age < 1 year)    \\\\\n",
       "\t WA                                  & 2011                                & CORE                                & 3                                   & AGEMONTH                            &  7                                  &  9                                  & NA                                  & Num                                 & Age in months (when age < 11 years)\\\\\n",
       "\t WA                                  & 2011                                & CORE                                & 4                                   & AHOUR                               & 10                                  & 13                                  & NA                                  & Num                                 & Admission Hour                     \\\\\n",
       "\t WA                                  & 2011                                & CORE                                & 5                                   & AMONTH                              & 14                                  & 15                                  & NA                                  & Num                                 & Admission month                    \\\\\n",
       "\t WA                                  & 2011                                & CORE                                & 6                                   & ATYPE                               & 16                                  & 17                                  & NA                                  & Num                                 & Admission type                     \\\\\n",
       "\\end{tabular}\n"
      ],
      "text/markdown": [
       "\n",
       "V1 | V2 | V3 | V4 | V5 | V6 | V7 | V8 | V9 | V10 | \n",
       "|---|---|---|---|---|---|\n",
       "| WA                                  | 2011                                | CORE                                | 1                                   | AGE                                 |  1                                  |  3                                  | NA                                  | Num                                 | Age in years at admission           | \n",
       "| WA                                  | 2011                                | CORE                                | 2                                   | AGEDAY                              |  4                                  |  6                                  | NA                                  | Num                                 | Age in days (when age < 1 year)     | \n",
       "| WA                                  | 2011                                | CORE                                | 3                                   | AGEMONTH                            |  7                                  |  9                                  | NA                                  | Num                                 | Age in months (when age < 11 years) | \n",
       "| WA                                  | 2011                                | CORE                                | 4                                   | AHOUR                               | 10                                  | 13                                  | NA                                  | Num                                 | Admission Hour                      | \n",
       "| WA                                  | 2011                                | CORE                                | 5                                   | AMONTH                              | 14                                  | 15                                  | NA                                  | Num                                 | Admission month                     | \n",
       "| WA                                  | 2011                                | CORE                                | 6                                   | ATYPE                               | 16                                  | 17                                  | NA                                  | Num                                 | Admission type                      | \n",
       "\n",
       "\n"
      ],
      "text/plain": [
       "  V1   V2   V3                V4 V5                          V6 V7 V8 V9   \n",
       "1 WA   2011 CORE              1  AGE                          1  3 NA Num  \n",
       "2 WA   2011 CORE              2  AGEDAY                       4  6 NA Num  \n",
       "3 WA   2011 CORE              3  AGEMONTH                     7  9 NA Num  \n",
       "4 WA   2011 CORE              4  AHOUR                       10 13 NA Num  \n",
       "5 WA   2011 CORE              5  AMONTH                      14 15 NA Num  \n",
       "6 WA   2011 CORE              6  ATYPE                       16 17 NA Num  \n",
       "  V10                                \n",
       "1 Age in years at admission          \n",
       "2 Age in days (when age < 1 year)    \n",
       "3 Age in months (when age < 11 years)\n",
       "4 Admission Hour                     \n",
       "5 Admission month                    \n",
       "6 Admission type                     "
      ]
     },
     "metadata": {},
     "output_type": "display_data"
    }
   ],
   "source": [
    "file <- 'core_desc.txt'\n",
    "download.file('https://www.hcup-us.ahrq.gov/db/state/sidc/tools/filespecs/WA_SID_2011_CORE.loc', file)\n",
    "\n",
    "str_start <- c(1, 5, 10, 27, 31, 58, 63, 68, 70, 75)\n",
    "str_end <- c(3, 8, 25, 29, 56, 61, 66, 68, 73, 174)\n",
    "widths <- (str_end - str_start) + 2\n",
    "\n",
    "des <- read.fwf(file, skip=20, widths=widths)\n",
    "head(des)"
   ]
  },
  {
   "cell_type": "markdown",
   "metadata": {},
   "source": [
    "From this list, we extract the column names, lightly-reformatted column descriptions, and the beginning and end positions of each column in the fixed-width data file:"
   ]
  },
  {
   "cell_type": "code",
   "execution_count": 3,
   "metadata": {
    "collapsed": true
   },
   "outputs": [],
   "source": [
    "des$V10 <- gsub(',', '_', des$V10)\n",
    "colnameslong <- data.frame(core_2011=des$V10)\n",
    "colnames <- data.frame(core_2011=des$V5)\n",
    "\n",
    "str_start <- des$V6\n",
    "str_end <- des$V7\n",
    "widths <- (str_end - str_start) + 1"
   ]
  },
  {
   "cell_type": "markdown",
   "metadata": {},
   "source": [
    "Now we are ready to download and parse the core data file, saving the output in CSV format:"
   ]
  },
  {
   "cell_type": "code",
   "execution_count": 4,
   "metadata": {},
   "outputs": [
    {
     "data": {
      "text/html": [
       "<ol class=list-inline>\n",
       "\t<li>10</li>\n",
       "\t<li>259</li>\n",
       "</ol>\n"
      ],
      "text/latex": [
       "\\begin{enumerate*}\n",
       "\\item 10\n",
       "\\item 259\n",
       "\\end{enumerate*}\n"
      ],
      "text/markdown": [
       "1. 10\n",
       "2. 259\n",
       "\n",
       "\n"
      ],
      "text/plain": [
       "[1]  10 259"
      ]
     },
     "metadata": {},
     "output_type": "display_data"
    },
    {
     "data": {
      "text/html": [
       "<table>\n",
       "<thead><tr><th scope=col>AGE</th><th scope=col>AGEDAY</th><th scope=col>AGEMONTH</th><th scope=col>AHOUR</th><th scope=col>AMONTH</th><th scope=col>ATYPE</th><th scope=col>AWEEKEND</th><th scope=col>DHOUR</th><th scope=col>DIED</th><th scope=col>DISPUB04</th><th scope=col>...</th><th scope=col>TOTCHG</th><th scope=col>TOTCHG_X</th><th scope=col>TRAN_IN</th><th scope=col>TRAN_OUT</th><th scope=col>VisitLink</th><th scope=col>YEAR</th><th scope=col>ZIP3</th><th scope=col>ZIPINC_QRTL</th><th scope=col>ZIP</th><th scope=col>AYEAR</th></tr></thead>\n",
       "<tbody>\n",
       "\t<tr><td>52       </td><td>-99      </td><td>-99      </td><td> 700     </td><td> 1       </td><td>3        </td><td>0        </td><td>1400     </td><td>0        </td><td>1        </td><td>...      </td><td> 56511   </td><td> 56510.96</td><td>0        </td><td>0        </td><td>36389    </td><td>2011     </td><td>981      </td><td>2        </td><td>98122    </td><td>2011     </td></tr>\n",
       "\t<tr><td>65       </td><td>-99      </td><td>-99      </td><td>1000     </td><td> 1       </td><td>3        </td><td>0        </td><td>1400     </td><td>0        </td><td>6        </td><td>...      </td><td>140956   </td><td>140956.47</td><td>0        </td><td>0        </td><td>36390    </td><td>2011     </td><td>981      </td><td>3        </td><td>98144    </td><td>2011     </td></tr>\n",
       "\t<tr><td>87       </td><td>-99      </td><td>-99      </td><td> 700     </td><td> 1       </td><td>3        </td><td>0        </td><td>1100     </td><td>0        </td><td>1        </td><td>...      </td><td> 12687   </td><td> 12687.35</td><td>0        </td><td>0        </td><td>36391    </td><td>2011     </td><td>981      </td><td>3        </td><td>98109    </td><td>2011     </td></tr>\n",
       "\t<tr><td>23       </td><td>-99      </td><td>-99      </td><td> 500     </td><td> 1       </td><td>3        </td><td>0        </td><td>1400     </td><td>0        </td><td>1        </td><td>...      </td><td> 23402   </td><td> 23402.20</td><td>0        </td><td>0        </td><td>36392    </td><td>2011     </td><td>980      </td><td>4        </td><td>98033    </td><td>2011     </td></tr>\n",
       "\t<tr><td>30       </td><td>-99      </td><td>-99      </td><td>2200     </td><td>11       </td><td>3        </td><td>0        </td><td>1300     </td><td>0        </td><td>1        </td><td>...      </td><td>240352   </td><td>240351.70</td><td>0        </td><td>0        </td><td>36393    </td><td>2011     </td><td>982      </td><td>4        </td><td>98208    </td><td>2010     </td></tr>\n",
       "\t<tr><td>29       </td><td>-99      </td><td>-99      </td><td>1200     </td><td>11       </td><td>3        </td><td>0        </td><td> 600     </td><td>0        </td><td>5        </td><td>...      </td><td>282202   </td><td>282202.20</td><td>0        </td><td>1        </td><td>36394    </td><td>2011     </td><td>982      </td><td>1        </td><td>98225    </td><td>2010     </td></tr>\n",
       "</tbody>\n",
       "</table>\n"
      ],
      "text/latex": [
       "\\begin{tabular}{r|lllllllllllllllllllllllllllllllllllllllllllllllllllllllllllllllllllllllllllllllllllllllllllllllllllllllllllllllllllllllllllllllllllllllllllllllllllllllllllllllllllllllllllllllllllllllllllllllllllllllllllllllllllllllllllllllllllllllllllllllllllllllllllllllllll}\n",
       " AGE & AGEDAY & AGEMONTH & AHOUR & AMONTH & ATYPE & AWEEKEND & DHOUR & DIED & DISPUB04 & ... & TOTCHG & TOTCHG\\_X & TRAN\\_IN & TRAN\\_OUT & VisitLink & YEAR & ZIP3 & ZIPINC\\_QRTL & ZIP & AYEAR\\\\\n",
       "\\hline\n",
       "\t 52        & -99       & -99       &  700      &  1        & 3         & 0         & 1400      & 0         & 1         & ...       &  56511    &  56510.96 & 0         & 0         & 36389     & 2011      & 981       & 2         & 98122     & 2011     \\\\\n",
       "\t 65        & -99       & -99       & 1000      &  1        & 3         & 0         & 1400      & 0         & 6         & ...       & 140956    & 140956.47 & 0         & 0         & 36390     & 2011      & 981       & 3         & 98144     & 2011     \\\\\n",
       "\t 87        & -99       & -99       &  700      &  1        & 3         & 0         & 1100      & 0         & 1         & ...       &  12687    &  12687.35 & 0         & 0         & 36391     & 2011      & 981       & 3         & 98109     & 2011     \\\\\n",
       "\t 23        & -99       & -99       &  500      &  1        & 3         & 0         & 1400      & 0         & 1         & ...       &  23402    &  23402.20 & 0         & 0         & 36392     & 2011      & 980       & 4         & 98033     & 2011     \\\\\n",
       "\t 30        & -99       & -99       & 2200      & 11        & 3         & 0         & 1300      & 0         & 1         & ...       & 240352    & 240351.70 & 0         & 0         & 36393     & 2011      & 982       & 4         & 98208     & 2010     \\\\\n",
       "\t 29        & -99       & -99       & 1200      & 11        & 3         & 0         &  600      & 0         & 5         & ...       & 282202    & 282202.20 & 0         & 1         & 36394     & 2011      & 982       & 1         & 98225     & 2010     \\\\\n",
       "\\end{tabular}\n"
      ],
      "text/markdown": [
       "\n",
       "AGE | AGEDAY | AGEMONTH | AHOUR | AMONTH | ATYPE | AWEEKEND | DHOUR | DIED | DISPUB04 | ... | TOTCHG | TOTCHG_X | TRAN_IN | TRAN_OUT | VisitLink | YEAR | ZIP3 | ZIPINC_QRTL | ZIP | AYEAR | \n",
       "|---|---|---|---|---|---|\n",
       "| 52        | -99       | -99       |  700      |  1        | 3         | 0         | 1400      | 0         | 1         | ...       |  56511    |  56510.96 | 0         | 0         | 36389     | 2011      | 981       | 2         | 98122     | 2011      | \n",
       "| 65        | -99       | -99       | 1000      |  1        | 3         | 0         | 1400      | 0         | 6         | ...       | 140956    | 140956.47 | 0         | 0         | 36390     | 2011      | 981       | 3         | 98144     | 2011      | \n",
       "| 87        | -99       | -99       |  700      |  1        | 3         | 0         | 1100      | 0         | 1         | ...       |  12687    |  12687.35 | 0         | 0         | 36391     | 2011      | 981       | 3         | 98109     | 2011      | \n",
       "| 23        | -99       | -99       |  500      |  1        | 3         | 0         | 1400      | 0         | 1         | ...       |  23402    |  23402.20 | 0         | 0         | 36392     | 2011      | 980       | 4         | 98033     | 2011      | \n",
       "| 30        | -99       | -99       | 2200      | 11        | 3         | 0         | 1300      | 0         | 1         | ...       | 240352    | 240351.70 | 0         | 0         | 36393     | 2011      | 982       | 4         | 98208     | 2010      | \n",
       "| 29        | -99       | -99       | 1200      | 11        | 3         | 0         |  600      | 0         | 5         | ...       | 282202    | 282202.20 | 0         | 1         | 36394     | 2011      | 982       | 1         | 98225     | 2010      | \n",
       "\n",
       "\n"
      ],
      "text/plain": [
       "  AGE AGEDAY AGEMONTH AHOUR AMONTH ATYPE AWEEKEND DHOUR DIED DISPUB04 ...\n",
       "1 52  -99    -99       700   1     3     0        1400  0    1        ...\n",
       "2 65  -99    -99      1000   1     3     0        1400  0    6        ...\n",
       "3 87  -99    -99       700   1     3     0        1100  0    1        ...\n",
       "4 23  -99    -99       500   1     3     0        1400  0    1        ...\n",
       "5 30  -99    -99      2200  11     3     0        1300  0    1        ...\n",
       "6 29  -99    -99      1200  11     3     0         600  0    5        ...\n",
       "  TOTCHG TOTCHG_X  TRAN_IN TRAN_OUT VisitLink YEAR ZIP3 ZIPINC_QRTL ZIP   AYEAR\n",
       "1  56511  56510.96 0       0        36389     2011 981  2           98122 2011 \n",
       "2 140956 140956.47 0       0        36390     2011 981  3           98144 2011 \n",
       "3  12687  12687.35 0       0        36391     2011 981  3           98109 2011 \n",
       "4  23402  23402.20 0       0        36392     2011 980  4           98033 2011 \n",
       "5 240352 240351.70 0       0        36393     2011 982  4           98208 2010 \n",
       "6 282202 282202.20 0       1        36394     2011 982  1           98225 2010 "
      ]
     },
     "metadata": {},
     "output_type": "display_data"
    }
   ],
   "source": [
    "download.file('https://phm.blob.core.windows.net/models/Sample_WA_SID_2011_CORE.asc',\n",
    "              'Sample_WA_SID_2011_CORE.asc')\n",
    "dat_core <- read.fwf('Sample_WA_SID_2011_CORE.asc', widths=widths)\n",
    "dim(dat_core)\n",
    "names(dat_core) <- trimws(colnames$core_2011)\n",
    "head(dat_core)\n",
    "# write.csv(dat_core, 'Sample_WA_SID_2011_CORE.csv', row.names=F)"
   ]
  },
  {
   "cell_type": "markdown",
   "metadata": {},
   "source": [
    "## Unannotated code for the remaining data\n",
    "\n",
    "### Charges associated with each inpatient visit"
   ]
  },
  {
   "cell_type": "code",
   "execution_count": 5,
   "metadata": {},
   "outputs": [
    {
     "data": {
      "text/html": [
       "<ol class=list-inline>\n",
       "\t<li>10</li>\n",
       "\t<li>158</li>\n",
       "</ol>\n"
      ],
      "text/latex": [
       "\\begin{enumerate*}\n",
       "\\item 10\n",
       "\\item 158\n",
       "\\end{enumerate*}\n"
      ],
      "text/markdown": [
       "1. 10\n",
       "2. 158\n",
       "\n",
       "\n"
      ],
      "text/plain": [
       "[1]  10 158"
      ]
     },
     "metadata": {},
     "output_type": "display_data"
    },
    {
     "data": {
      "text/html": [
       "<table>\n",
       "<thead><tr><th scope=col>KEY</th><th scope=col>NREVCD</th><th scope=col>REVCD1</th><th scope=col>REVCD2</th><th scope=col>REVCD3</th><th scope=col>REVCD4</th><th scope=col>REVCD5</th><th scope=col>REVCD6</th><th scope=col>REVCD7</th><th scope=col>REVCD8</th><th scope=col>...</th><th scope=col>UNIT43</th><th scope=col>UNIT44</th><th scope=col>UNIT45</th><th scope=col>UNIT46</th><th scope=col>UNIT47</th><th scope=col>UNIT48</th><th scope=col>UNIT49</th><th scope=col>UNIT50</th><th scope=col>UNIT51</th><th scope=col>UNIT52</th></tr></thead>\n",
       "<tbody>\n",
       "\t<tr><td>5.320111e+14</td><td>15          </td><td>1           </td><td>120         </td><td>250         </td><td>258         </td><td>272         </td><td>278         </td><td>300         </td><td>305         </td><td>...         </td><td>-9999999    </td><td>-9999999    </td><td>-9999999    </td><td>-9999999    </td><td>-9999999    </td><td>-9999999    </td><td>-9999999    </td><td>-9999999    </td><td>-9999999    </td><td>-9999999    </td></tr>\n",
       "\t<tr><td>5.320111e+14</td><td>18          </td><td>1           </td><td>120         </td><td>250         </td><td>258         </td><td>270         </td><td>272         </td><td>278         </td><td>300         </td><td>...         </td><td>-9999999    </td><td>-9999999    </td><td>-9999999    </td><td>-9999999    </td><td>-9999999    </td><td>-9999999    </td><td>-9999999    </td><td>-9999999    </td><td>-9999999    </td><td>-9999999    </td></tr>\n",
       "\t<tr><td>5.320111e+14</td><td>15          </td><td>1           </td><td>120         </td><td>250         </td><td>270         </td><td>272         </td><td>300         </td><td>301         </td><td>305         </td><td>...         </td><td>-9999999    </td><td>-9999999    </td><td>-9999999    </td><td>-9999999    </td><td>-9999999    </td><td>-9999999    </td><td>-9999999    </td><td>-9999999    </td><td>-9999999    </td><td>-9999999    </td></tr>\n",
       "\t<tr><td>5.320111e+14</td><td>11          </td><td>1           </td><td>122         </td><td>250         </td><td>270         </td><td>272         </td><td>300         </td><td>305         </td><td>360         </td><td>...         </td><td>-9999999    </td><td>-9999999    </td><td>-9999999    </td><td>-9999999    </td><td>-9999999    </td><td>-9999999    </td><td>-9999999    </td><td>-9999999    </td><td>-9999999    </td><td>-9999999    </td></tr>\n",
       "\t<tr><td>5.320111e+14</td><td>13          </td><td>1           </td><td>129         </td><td>250         </td><td>300         </td><td>301         </td><td>302         </td><td>305         </td><td>306         </td><td>...         </td><td>-9999999    </td><td>-9999999    </td><td>-9999999    </td><td>-9999999    </td><td>-9999999    </td><td>-9999999    </td><td>-9999999    </td><td>-9999999    </td><td>-9999999    </td><td>-9999999    </td></tr>\n",
       "\t<tr><td>5.320111e+14</td><td>12          </td><td>1           </td><td>129         </td><td>250         </td><td>300         </td><td>301         </td><td>302         </td><td>305         </td><td>306         </td><td>...         </td><td>-9999999    </td><td>-9999999    </td><td>-9999999    </td><td>-9999999    </td><td>-9999999    </td><td>-9999999    </td><td>-9999999    </td><td>-9999999    </td><td>-9999999    </td><td>-9999999    </td></tr>\n",
       "</tbody>\n",
       "</table>\n"
      ],
      "text/latex": [
       "\\begin{tabular}{r|llllllllllllllllllllllllllllllllllllllllllllllllllllllllllllllllllllllllllllllllllllllllllllllllllllllllllllllllllllllllllllllllllllllllllllllllllllllllllllll}\n",
       " KEY & NREVCD & REVCD1 & REVCD2 & REVCD3 & REVCD4 & REVCD5 & REVCD6 & REVCD7 & REVCD8 & ... & UNIT43 & UNIT44 & UNIT45 & UNIT46 & UNIT47 & UNIT48 & UNIT49 & UNIT50 & UNIT51 & UNIT52\\\\\n",
       "\\hline\n",
       "\t 5.320111e+14 & 15           & 1            & 120          & 250          & 258          & 272          & 278          & 300          & 305          & ...          & -9999999     & -9999999     & -9999999     & -9999999     & -9999999     & -9999999     & -9999999     & -9999999     & -9999999     & -9999999    \\\\\n",
       "\t 5.320111e+14 & 18           & 1            & 120          & 250          & 258          & 270          & 272          & 278          & 300          & ...          & -9999999     & -9999999     & -9999999     & -9999999     & -9999999     & -9999999     & -9999999     & -9999999     & -9999999     & -9999999    \\\\\n",
       "\t 5.320111e+14 & 15           & 1            & 120          & 250          & 270          & 272          & 300          & 301          & 305          & ...          & -9999999     & -9999999     & -9999999     & -9999999     & -9999999     & -9999999     & -9999999     & -9999999     & -9999999     & -9999999    \\\\\n",
       "\t 5.320111e+14 & 11           & 1            & 122          & 250          & 270          & 272          & 300          & 305          & 360          & ...          & -9999999     & -9999999     & -9999999     & -9999999     & -9999999     & -9999999     & -9999999     & -9999999     & -9999999     & -9999999    \\\\\n",
       "\t 5.320111e+14 & 13           & 1            & 129          & 250          & 300          & 301          & 302          & 305          & 306          & ...          & -9999999     & -9999999     & -9999999     & -9999999     & -9999999     & -9999999     & -9999999     & -9999999     & -9999999     & -9999999    \\\\\n",
       "\t 5.320111e+14 & 12           & 1            & 129          & 250          & 300          & 301          & 302          & 305          & 306          & ...          & -9999999     & -9999999     & -9999999     & -9999999     & -9999999     & -9999999     & -9999999     & -9999999     & -9999999     & -9999999    \\\\\n",
       "\\end{tabular}\n"
      ],
      "text/markdown": [
       "\n",
       "KEY | NREVCD | REVCD1 | REVCD2 | REVCD3 | REVCD4 | REVCD5 | REVCD6 | REVCD7 | REVCD8 | ... | UNIT43 | UNIT44 | UNIT45 | UNIT46 | UNIT47 | UNIT48 | UNIT49 | UNIT50 | UNIT51 | UNIT52 | \n",
       "|---|---|---|---|---|---|\n",
       "| 5.320111e+14 | 15           | 1            | 120          | 250          | 258          | 272          | 278          | 300          | 305          | ...          | -9999999     | -9999999     | -9999999     | -9999999     | -9999999     | -9999999     | -9999999     | -9999999     | -9999999     | -9999999     | \n",
       "| 5.320111e+14 | 18           | 1            | 120          | 250          | 258          | 270          | 272          | 278          | 300          | ...          | -9999999     | -9999999     | -9999999     | -9999999     | -9999999     | -9999999     | -9999999     | -9999999     | -9999999     | -9999999     | \n",
       "| 5.320111e+14 | 15           | 1            | 120          | 250          | 270          | 272          | 300          | 301          | 305          | ...          | -9999999     | -9999999     | -9999999     | -9999999     | -9999999     | -9999999     | -9999999     | -9999999     | -9999999     | -9999999     | \n",
       "| 5.320111e+14 | 11           | 1            | 122          | 250          | 270          | 272          | 300          | 305          | 360          | ...          | -9999999     | -9999999     | -9999999     | -9999999     | -9999999     | -9999999     | -9999999     | -9999999     | -9999999     | -9999999     | \n",
       "| 5.320111e+14 | 13           | 1            | 129          | 250          | 300          | 301          | 302          | 305          | 306          | ...          | -9999999     | -9999999     | -9999999     | -9999999     | -9999999     | -9999999     | -9999999     | -9999999     | -9999999     | -9999999     | \n",
       "| 5.320111e+14 | 12           | 1            | 129          | 250          | 300          | 301          | 302          | 305          | 306          | ...          | -9999999     | -9999999     | -9999999     | -9999999     | -9999999     | -9999999     | -9999999     | -9999999     | -9999999     | -9999999     | \n",
       "\n",
       "\n"
      ],
      "text/plain": [
       "  KEY          NREVCD REVCD1 REVCD2 REVCD3 REVCD4 REVCD5 REVCD6 REVCD7 REVCD8\n",
       "1 5.320111e+14 15     1      120    250    258    272    278    300    305   \n",
       "2 5.320111e+14 18     1      120    250    258    270    272    278    300   \n",
       "3 5.320111e+14 15     1      120    250    270    272    300    301    305   \n",
       "4 5.320111e+14 11     1      122    250    270    272    300    305    360   \n",
       "5 5.320111e+14 13     1      129    250    300    301    302    305    306   \n",
       "6 5.320111e+14 12     1      129    250    300    301    302    305    306   \n",
       "  ... UNIT43   UNIT44   UNIT45   UNIT46   UNIT47   UNIT48   UNIT49   UNIT50  \n",
       "1 ... -9999999 -9999999 -9999999 -9999999 -9999999 -9999999 -9999999 -9999999\n",
       "2 ... -9999999 -9999999 -9999999 -9999999 -9999999 -9999999 -9999999 -9999999\n",
       "3 ... -9999999 -9999999 -9999999 -9999999 -9999999 -9999999 -9999999 -9999999\n",
       "4 ... -9999999 -9999999 -9999999 -9999999 -9999999 -9999999 -9999999 -9999999\n",
       "5 ... -9999999 -9999999 -9999999 -9999999 -9999999 -9999999 -9999999 -9999999\n",
       "6 ... -9999999 -9999999 -9999999 -9999999 -9999999 -9999999 -9999999 -9999999\n",
       "  UNIT51   UNIT52  \n",
       "1 -9999999 -9999999\n",
       "2 -9999999 -9999999\n",
       "3 -9999999 -9999999\n",
       "4 -9999999 -9999999\n",
       "5 -9999999 -9999999\n",
       "6 -9999999 -9999999"
      ]
     },
     "metadata": {},
     "output_type": "display_data"
    }
   ],
   "source": [
    "file <- 'charges_desc.txt'\n",
    "download.file('https://www.hcup-us.ahrq.gov/db/state/sidc/tools/filespecs/WA_SID_2011_CHGS.loc', file)\n",
    "\n",
    "str_start <- c(1, 5, 10, 27, 31, 58, 63, 68, 70, 75)\n",
    "str_end <- c(3, 8, 25, 29, 56, 61, 66, 68, 73, 174)\n",
    "widths <- (str_end - str_start) + 2\n",
    "\n",
    "des <- read.fwf(file, skip=20, widths=widths)\n",
    "\n",
    "des$V10 <- gsub(',', '_', des$V10)\n",
    "colnameslong <- data.frame(charges_2011=des$V10)\n",
    "colnames <- data.frame(charges_2011=des$V5)\n",
    "\n",
    "str_start <- des$V6\n",
    "str_end <- des$V7\n",
    "widths <- (str_end - str_start) + 1\n",
    "\n",
    "download.file('https://phm.blob.core.windows.net/models/Sample_WA_SID_2011_CHGS.asc',\n",
    "              'Sample_WA_SID_2011_CHGS.asc')\n",
    "dat_chrg <- read.fwf('Sample_WA_SID_2011_CHGS.asc', widths=widths)\n",
    "dim(dat_chrg)\n",
    "names(dat_chrg) <- trimws(colnames$charges_2011)\n",
    "head(dat_chrg)\n",
    "# write.csv(dat_chrg, 'Sample_WA_SID_2011_CHGS.csv', row.names=F)"
   ]
  },
  {
   "cell_type": "markdown",
   "metadata": {},
   "source": [
    "### Severity of pre-existing conditions that may affect outcomes"
   ]
  },
  {
   "cell_type": "code",
   "execution_count": 6,
   "metadata": {},
   "outputs": [
    {
     "data": {
      "text/html": [
       "<ol class=list-inline>\n",
       "\t<li>10</li>\n",
       "\t<li>30</li>\n",
       "</ol>\n"
      ],
      "text/latex": [
       "\\begin{enumerate*}\n",
       "\\item 10\n",
       "\\item 30\n",
       "\\end{enumerate*}\n"
      ],
      "text/markdown": [
       "1. 10\n",
       "2. 30\n",
       "\n",
       "\n"
      ],
      "text/plain": [
       "[1] 10 30"
      ]
     },
     "metadata": {},
     "output_type": "display_data"
    },
    {
     "data": {
      "text/html": [
       "<table>\n",
       "<thead><tr><th scope=col>KEY</th><th scope=col>CM_AIDS</th><th scope=col>CM_ALCOHOL</th><th scope=col>CM_ANEMDEF</th><th scope=col>CM_ARTH</th><th scope=col>CM_BLDLOSS</th><th scope=col>CM_CHF</th><th scope=col>CM_CHRNLUNG</th><th scope=col>CM_COAG</th><th scope=col>CM_DEPRESS</th><th scope=col>...</th><th scope=col>CM_OBESE</th><th scope=col>CM_PARA</th><th scope=col>CM_PERIVASC</th><th scope=col>CM_PSYCH</th><th scope=col>CM_PULMCIRC</th><th scope=col>CM_RENLFAIL</th><th scope=col>CM_TUMOR</th><th scope=col>CM_ULCER</th><th scope=col>CM_VALVE</th><th scope=col>CM_WGHTLOSS</th></tr></thead>\n",
       "<tbody>\n",
       "\t<tr><td>5.320111e+14</td><td>1           </td><td>0           </td><td>0           </td><td>1           </td><td>0           </td><td>0           </td><td>0           </td><td>0           </td><td>1           </td><td>...         </td><td>0           </td><td>0           </td><td>0           </td><td>0           </td><td>0           </td><td>0           </td><td>0           </td><td>0           </td><td>0           </td><td>0           </td></tr>\n",
       "\t<tr><td>5.320111e+14</td><td>0           </td><td>0           </td><td>0           </td><td>0           </td><td>0           </td><td>0           </td><td>1           </td><td>0           </td><td>0           </td><td>...         </td><td>1           </td><td>0           </td><td>0           </td><td>0           </td><td>0           </td><td>0           </td><td>0           </td><td>0           </td><td>0           </td><td>0           </td></tr>\n",
       "\t<tr><td>5.320111e+14</td><td>0           </td><td>0           </td><td>0           </td><td>0           </td><td>0           </td><td>1           </td><td>0           </td><td>0           </td><td>0           </td><td>...         </td><td>0           </td><td>0           </td><td>0           </td><td>0           </td><td>0           </td><td>0           </td><td>0           </td><td>0           </td><td>0           </td><td>0           </td></tr>\n",
       "\t<tr><td>5.320111e+14</td><td>0           </td><td>0           </td><td>1           </td><td>0           </td><td>1           </td><td>0           </td><td>0           </td><td>0           </td><td>0           </td><td>...         </td><td>0           </td><td>0           </td><td>0           </td><td>0           </td><td>0           </td><td>0           </td><td>0           </td><td>0           </td><td>0           </td><td>0           </td></tr>\n",
       "\t<tr><td>5.320111e+14</td><td>0           </td><td>1           </td><td>1           </td><td>0           </td><td>1           </td><td>0           </td><td>0           </td><td>0           </td><td>1           </td><td>...         </td><td>0           </td><td>0           </td><td>0           </td><td>0           </td><td>0           </td><td>0           </td><td>0           </td><td>0           </td><td>0           </td><td>0           </td></tr>\n",
       "\t<tr><td>5.320111e+14</td><td>0           </td><td>0           </td><td>0           </td><td>0           </td><td>0           </td><td>0           </td><td>0           </td><td>0           </td><td>1           </td><td>...         </td><td>0           </td><td>0           </td><td>0           </td><td>1           </td><td>0           </td><td>0           </td><td>0           </td><td>0           </td><td>0           </td><td>0           </td></tr>\n",
       "</tbody>\n",
       "</table>\n"
      ],
      "text/latex": [
       "\\begin{tabular}{r|llllllllllllllllllllllllllllll}\n",
       " KEY & CM\\_AIDS & CM\\_ALCOHOL & CM\\_ANEMDEF & CM\\_ARTH & CM\\_BLDLOSS & CM\\_CHF & CM\\_CHRNLUNG & CM\\_COAG & CM\\_DEPRESS & ... & CM\\_OBESE & CM\\_PARA & CM\\_PERIVASC & CM\\_PSYCH & CM\\_PULMCIRC & CM\\_RENLFAIL & CM\\_TUMOR & CM\\_ULCER & CM\\_VALVE & CM\\_WGHTLOSS\\\\\n",
       "\\hline\n",
       "\t 5.320111e+14 & 1            & 0            & 0            & 1            & 0            & 0            & 0            & 0            & 1            & ...          & 0            & 0            & 0            & 0            & 0            & 0            & 0            & 0            & 0            & 0           \\\\\n",
       "\t 5.320111e+14 & 0            & 0            & 0            & 0            & 0            & 0            & 1            & 0            & 0            & ...          & 1            & 0            & 0            & 0            & 0            & 0            & 0            & 0            & 0            & 0           \\\\\n",
       "\t 5.320111e+14 & 0            & 0            & 0            & 0            & 0            & 1            & 0            & 0            & 0            & ...          & 0            & 0            & 0            & 0            & 0            & 0            & 0            & 0            & 0            & 0           \\\\\n",
       "\t 5.320111e+14 & 0            & 0            & 1            & 0            & 1            & 0            & 0            & 0            & 0            & ...          & 0            & 0            & 0            & 0            & 0            & 0            & 0            & 0            & 0            & 0           \\\\\n",
       "\t 5.320111e+14 & 0            & 1            & 1            & 0            & 1            & 0            & 0            & 0            & 1            & ...          & 0            & 0            & 0            & 0            & 0            & 0            & 0            & 0            & 0            & 0           \\\\\n",
       "\t 5.320111e+14 & 0            & 0            & 0            & 0            & 0            & 0            & 0            & 0            & 1            & ...          & 0            & 0            & 0            & 1            & 0            & 0            & 0            & 0            & 0            & 0           \\\\\n",
       "\\end{tabular}\n"
      ],
      "text/markdown": [
       "\n",
       "KEY | CM_AIDS | CM_ALCOHOL | CM_ANEMDEF | CM_ARTH | CM_BLDLOSS | CM_CHF | CM_CHRNLUNG | CM_COAG | CM_DEPRESS | ... | CM_OBESE | CM_PARA | CM_PERIVASC | CM_PSYCH | CM_PULMCIRC | CM_RENLFAIL | CM_TUMOR | CM_ULCER | CM_VALVE | CM_WGHTLOSS | \n",
       "|---|---|---|---|---|---|\n",
       "| 5.320111e+14 | 1            | 0            | 0            | 1            | 0            | 0            | 0            | 0            | 1            | ...          | 0            | 0            | 0            | 0            | 0            | 0            | 0            | 0            | 0            | 0            | \n",
       "| 5.320111e+14 | 0            | 0            | 0            | 0            | 0            | 0            | 1            | 0            | 0            | ...          | 1            | 0            | 0            | 0            | 0            | 0            | 0            | 0            | 0            | 0            | \n",
       "| 5.320111e+14 | 0            | 0            | 0            | 0            | 0            | 1            | 0            | 0            | 0            | ...          | 0            | 0            | 0            | 0            | 0            | 0            | 0            | 0            | 0            | 0            | \n",
       "| 5.320111e+14 | 0            | 0            | 1            | 0            | 1            | 0            | 0            | 0            | 0            | ...          | 0            | 0            | 0            | 0            | 0            | 0            | 0            | 0            | 0            | 0            | \n",
       "| 5.320111e+14 | 0            | 1            | 1            | 0            | 1            | 0            | 0            | 0            | 1            | ...          | 0            | 0            | 0            | 0            | 0            | 0            | 0            | 0            | 0            | 0            | \n",
       "| 5.320111e+14 | 0            | 0            | 0            | 0            | 0            | 0            | 0            | 0            | 1            | ...          | 0            | 0            | 0            | 1            | 0            | 0            | 0            | 0            | 0            | 0            | \n",
       "\n",
       "\n"
      ],
      "text/plain": [
       "  KEY          CM_AIDS CM_ALCOHOL CM_ANEMDEF CM_ARTH CM_BLDLOSS CM_CHF\n",
       "1 5.320111e+14 1       0          0          1       0          0     \n",
       "2 5.320111e+14 0       0          0          0       0          0     \n",
       "3 5.320111e+14 0       0          0          0       0          1     \n",
       "4 5.320111e+14 0       0          1          0       1          0     \n",
       "5 5.320111e+14 0       1          1          0       1          0     \n",
       "6 5.320111e+14 0       0          0          0       0          0     \n",
       "  CM_CHRNLUNG CM_COAG CM_DEPRESS ... CM_OBESE CM_PARA CM_PERIVASC CM_PSYCH\n",
       "1 0           0       1          ... 0        0       0           0       \n",
       "2 1           0       0          ... 1        0       0           0       \n",
       "3 0           0       0          ... 0        0       0           0       \n",
       "4 0           0       0          ... 0        0       0           0       \n",
       "5 0           0       1          ... 0        0       0           0       \n",
       "6 0           0       1          ... 0        0       0           1       \n",
       "  CM_PULMCIRC CM_RENLFAIL CM_TUMOR CM_ULCER CM_VALVE CM_WGHTLOSS\n",
       "1 0           0           0        0        0        0          \n",
       "2 0           0           0        0        0        0          \n",
       "3 0           0           0        0        0        0          \n",
       "4 0           0           0        0        0        0          \n",
       "5 0           0           0        0        0        0          \n",
       "6 0           0           0        0        0        0          "
      ]
     },
     "metadata": {},
     "output_type": "display_data"
    }
   ],
   "source": [
    "file <- 'severity_desc.txt'\n",
    "download.file('https://www.hcup-us.ahrq.gov/db/state/sidc/tools/filespecs/WA_SID_2011_SEVERITY.loc', file)\n",
    "\n",
    "str_start <- c(1, 5, 10, 27, 31, 58, 63, 68, 70, 75)\n",
    "str_end <- c(3, 8, 25, 29, 56, 61, 66, 68, 73, 174)\n",
    "widths <- (str_end - str_start) + 2\n",
    "\n",
    "des <- read.fwf(file, skip=20, widths=widths)\n",
    "\n",
    "des$V10 <- gsub(',', '_', des$V10)\n",
    "colnameslong <- data.frame(severity_2011=des$V10)\n",
    "colnames <- data.frame(severity_2011=des$V5)\n",
    "\n",
    "str_start <- des$V6\n",
    "str_end <- des$V7\n",
    "widths <- (str_end - str_start)+1\n",
    "\n",
    "download.file('https://phm.blob.core.windows.net/models/Sample_WA_SID_2011_SEVERITY.asc',\n",
    "              'Sample_WA_SID_2011_SEVERITY.asc')\n",
    "dat_sevr <- read.fwf('Sample_WA_SID_2011_SEVERITY.asc', widths=widths)\n",
    "dim(dat_sevr)\n",
    "names(dat_sevr) <- trimws(colnames$severity_2011)\n",
    "head(dat_sevr)\n",
    "# write.csv(dat_sevr, 'Sample_WA_SID_2011_SEVERITY.csv', row.names = F )"
   ]
  },
  {
   "cell_type": "markdown",
   "metadata": {},
   "source": [
    "### Diagnostic and procedure groups"
   ]
  },
  {
   "cell_type": "code",
   "execution_count": 7,
   "metadata": {},
   "outputs": [
    {
     "data": {
      "text/html": [
       "<ol class=list-inline>\n",
       "\t<li>10</li>\n",
       "\t<li>182</li>\n",
       "</ol>\n"
      ],
      "text/latex": [
       "\\begin{enumerate*}\n",
       "\\item 10\n",
       "\\item 182\n",
       "\\end{enumerate*}\n"
      ],
      "text/markdown": [
       "1. 10\n",
       "2. 182\n",
       "\n",
       "\n"
      ],
      "text/plain": [
       "[1]  10 182"
      ]
     },
     "metadata": {},
     "output_type": "display_data"
    },
    {
     "data": {
      "text/html": [
       "<table>\n",
       "<thead><tr><th scope=col>CHRON1</th><th scope=col>CHRON2</th><th scope=col>CHRON3</th><th scope=col>CHRON4</th><th scope=col>CHRON5</th><th scope=col>CHRON6</th><th scope=col>CHRON7</th><th scope=col>CHRON8</th><th scope=col>CHRON9</th><th scope=col>CHRON10</th><th scope=col>...</th><th scope=col>U_OCCTHERAPY</th><th scope=col>U_ORGANACQ</th><th scope=col>U_OTHIMPLANTS</th><th scope=col>U_PACEMAKER</th><th scope=col>U_PHYTHERAPY</th><th scope=col>U_RADTHERAPY</th><th scope=col>U_RESPTHERAPY</th><th scope=col>U_SPEECHTHERAPY</th><th scope=col>U_STRESS</th><th scope=col>U_ULTRASOUND</th></tr></thead>\n",
       "<tbody>\n",
       "\t<tr><td>1  </td><td>1  </td><td>1  </td><td>1  </td><td>1  </td><td>1  </td><td> 1 </td><td> 1 </td><td> 1 </td><td> 1 </td><td>...</td><td>1  </td><td>0  </td><td>1  </td><td>0  </td><td>1  </td><td>0  </td><td>0  </td><td>0  </td><td>0  </td><td>0  </td></tr>\n",
       "\t<tr><td>0  </td><td>0  </td><td>0  </td><td>1  </td><td>1  </td><td>1  </td><td> 1 </td><td> 1 </td><td> 1 </td><td> 1 </td><td>...</td><td>1  </td><td>0  </td><td>1  </td><td>0  </td><td>1  </td><td>0  </td><td>0  </td><td>0  </td><td>0  </td><td>0  </td></tr>\n",
       "\t<tr><td>0  </td><td>1  </td><td>1  </td><td>0  </td><td>1  </td><td>1  </td><td> 1 </td><td> 1 </td><td> 1 </td><td> 0 </td><td>...</td><td>1  </td><td>0  </td><td>0  </td><td>0  </td><td>1  </td><td>0  </td><td>0  </td><td>0  </td><td>0  </td><td>0  </td></tr>\n",
       "\t<tr><td>0  </td><td>0  </td><td>1  </td><td>0  </td><td>0  </td><td>0  </td><td>-9 </td><td>-9 </td><td>-9 </td><td>-9 </td><td>...</td><td>0  </td><td>0  </td><td>0  </td><td>0  </td><td>0  </td><td>0  </td><td>0  </td><td>0  </td><td>0  </td><td>0  </td></tr>\n",
       "\t<tr><td>1  </td><td>1  </td><td>0  </td><td>1  </td><td>1  </td><td>1  </td><td> 1 </td><td> 0 </td><td> 0 </td><td> 1 </td><td>...</td><td>0  </td><td>0  </td><td>0  </td><td>0  </td><td>1  </td><td>0  </td><td>0  </td><td>0  </td><td>0  </td><td>1  </td></tr>\n",
       "\t<tr><td>1  </td><td>1  </td><td>1  </td><td>0  </td><td>0  </td><td>1  </td><td> 1 </td><td> 1 </td><td> 1 </td><td> 1 </td><td>...</td><td>0  </td><td>0  </td><td>0  </td><td>0  </td><td>0  </td><td>0  </td><td>1  </td><td>0  </td><td>0  </td><td>1  </td></tr>\n",
       "</tbody>\n",
       "</table>\n"
      ],
      "text/latex": [
       "\\begin{tabular}{r|llllllllllllllllllllllllllllllllllllllllllllllllllllllllllllllllllllllllllllllllllllllllllllllllllllllllllllllllllllllllllllllllllllllllllllllllllllllllllllllllllllllllllllllllllllll}\n",
       " CHRON1 & CHRON2 & CHRON3 & CHRON4 & CHRON5 & CHRON6 & CHRON7 & CHRON8 & CHRON9 & CHRON10 & ... & U\\_OCCTHERAPY & U\\_ORGANACQ & U\\_OTHIMPLANTS & U\\_PACEMAKER & U\\_PHYTHERAPY & U\\_RADTHERAPY & U\\_RESPTHERAPY & U\\_SPEECHTHERAPY & U\\_STRESS & U\\_ULTRASOUND\\\\\n",
       "\\hline\n",
       "\t 1   & 1   & 1   & 1   & 1   & 1   &  1  &  1  &  1  &  1  & ... & 1   & 0   & 1   & 0   & 1   & 0   & 0   & 0   & 0   & 0  \\\\\n",
       "\t 0   & 0   & 0   & 1   & 1   & 1   &  1  &  1  &  1  &  1  & ... & 1   & 0   & 1   & 0   & 1   & 0   & 0   & 0   & 0   & 0  \\\\\n",
       "\t 0   & 1   & 1   & 0   & 1   & 1   &  1  &  1  &  1  &  0  & ... & 1   & 0   & 0   & 0   & 1   & 0   & 0   & 0   & 0   & 0  \\\\\n",
       "\t 0   & 0   & 1   & 0   & 0   & 0   & -9  & -9  & -9  & -9  & ... & 0   & 0   & 0   & 0   & 0   & 0   & 0   & 0   & 0   & 0  \\\\\n",
       "\t 1   & 1   & 0   & 1   & 1   & 1   &  1  &  0  &  0  &  1  & ... & 0   & 0   & 0   & 0   & 1   & 0   & 0   & 0   & 0   & 1  \\\\\n",
       "\t 1   & 1   & 1   & 0   & 0   & 1   &  1  &  1  &  1  &  1  & ... & 0   & 0   & 0   & 0   & 0   & 0   & 1   & 0   & 0   & 1  \\\\\n",
       "\\end{tabular}\n"
      ],
      "text/markdown": [
       "\n",
       "CHRON1 | CHRON2 | CHRON3 | CHRON4 | CHRON5 | CHRON6 | CHRON7 | CHRON8 | CHRON9 | CHRON10 | ... | U_OCCTHERAPY | U_ORGANACQ | U_OTHIMPLANTS | U_PACEMAKER | U_PHYTHERAPY | U_RADTHERAPY | U_RESPTHERAPY | U_SPEECHTHERAPY | U_STRESS | U_ULTRASOUND | \n",
       "|---|---|---|---|---|---|\n",
       "| 1   | 1   | 1   | 1   | 1   | 1   |  1  |  1  |  1  |  1  | ... | 1   | 0   | 1   | 0   | 1   | 0   | 0   | 0   | 0   | 0   | \n",
       "| 0   | 0   | 0   | 1   | 1   | 1   |  1  |  1  |  1  |  1  | ... | 1   | 0   | 1   | 0   | 1   | 0   | 0   | 0   | 0   | 0   | \n",
       "| 0   | 1   | 1   | 0   | 1   | 1   |  1  |  1  |  1  |  0  | ... | 1   | 0   | 0   | 0   | 1   | 0   | 0   | 0   | 0   | 0   | \n",
       "| 0   | 0   | 1   | 0   | 0   | 0   | -9  | -9  | -9  | -9  | ... | 0   | 0   | 0   | 0   | 0   | 0   | 0   | 0   | 0   | 0   | \n",
       "| 1   | 1   | 0   | 1   | 1   | 1   |  1  |  0  |  0  |  1  | ... | 0   | 0   | 0   | 0   | 1   | 0   | 0   | 0   | 0   | 1   | \n",
       "| 1   | 1   | 1   | 0   | 0   | 1   |  1  |  1  |  1  |  1  | ... | 0   | 0   | 0   | 0   | 0   | 0   | 1   | 0   | 0   | 1   | \n",
       "\n",
       "\n"
      ],
      "text/plain": [
       "  CHRON1 CHRON2 CHRON3 CHRON4 CHRON5 CHRON6 CHRON7 CHRON8 CHRON9 CHRON10 ...\n",
       "1 1      1      1      1      1      1       1      1      1      1      ...\n",
       "2 0      0      0      1      1      1       1      1      1      1      ...\n",
       "3 0      1      1      0      1      1       1      1      1      0      ...\n",
       "4 0      0      1      0      0      0      -9     -9     -9     -9      ...\n",
       "5 1      1      0      1      1      1       1      0      0      1      ...\n",
       "6 1      1      1      0      0      1       1      1      1      1      ...\n",
       "  U_OCCTHERAPY U_ORGANACQ U_OTHIMPLANTS U_PACEMAKER U_PHYTHERAPY U_RADTHERAPY\n",
       "1 1            0          1             0           1            0           \n",
       "2 1            0          1             0           1            0           \n",
       "3 1            0          0             0           1            0           \n",
       "4 0            0          0             0           0            0           \n",
       "5 0            0          0             0           1            0           \n",
       "6 0            0          0             0           0            0           \n",
       "  U_RESPTHERAPY U_SPEECHTHERAPY U_STRESS U_ULTRASOUND\n",
       "1 0             0               0        0           \n",
       "2 0             0               0        0           \n",
       "3 0             0               0        0           \n",
       "4 0             0               0        0           \n",
       "5 0             0               0        1           \n",
       "6 1             0               0        1           "
      ]
     },
     "metadata": {},
     "output_type": "display_data"
    }
   ],
   "source": [
    "file <- 'dxpr_desc.txt'\n",
    "download.file('https://www.hcup-us.ahrq.gov/db/state/sidc/tools/filespecs/WA_SID_2011_DX_PR_GRPS.loc', file)\n",
    "\n",
    "str_start <- c(1, 5, 10, 27, 31, 58, 63, 68, 70, 75)\n",
    "str_end <- c(3, 8, 25, 29, 56, 61, 66, 68, 73, 174)\n",
    "widths <- (str_end - str_start) + 2\n",
    "\n",
    "des <- read.fwf(file, skip=20, widths=widths)\n",
    "\n",
    "des$V10 <- gsub(',', '_', des$V10)\n",
    "colnameslong <- data.frame(dxpr_2011=des$V10)\n",
    "colnames <- data.frame(dxpr_2011=des$V5)\n",
    "\n",
    "str_start <- des$V6\n",
    "str_end <- des$V7\n",
    "widths <- (str_end - str_start) + 1\n",
    "\n",
    "download.file('https://phm.blob.core.windows.net/models/Sample_WA_SID_2011_DX_PR_GRPS.asc',\n",
    "              'Sample_WA_SID_2011_DX_PR_GRPS.asc')\n",
    "dat_dxpr <- read.fwf('Sample_WA_SID_2011_DX_PR_GRPS.asc', widths=widths)\n",
    "dim(dat_dxpr)\n",
    "names(dat_dxpr) <- trimws(colnames$dxpr_2011)\n",
    "head(dat_dxpr)\n",
    "# write.csv(dat_dxpr, 'Sample_WA_SID_2011_DX_PR_GRPS.csv', row.names=F)"
   ]
  },
  {
   "cell_type": "markdown",
   "metadata": {},
   "source": [
    "## Merge results into a single CSV-formatted dataset"
   ]
  },
  {
   "cell_type": "code",
   "execution_count": 8,
   "metadata": {},
   "outputs": [
    {
     "data": {
      "text/html": [
       "<ol class=list-inline>\n",
       "\t<li>10</li>\n",
       "\t<li>626</li>\n",
       "</ol>\n"
      ],
      "text/latex": [
       "\\begin{enumerate*}\n",
       "\\item 10\n",
       "\\item 626\n",
       "\\end{enumerate*}\n"
      ],
      "text/markdown": [
       "1. 10\n",
       "2. 626\n",
       "\n",
       "\n"
      ],
      "text/plain": [
       "[1]  10 626"
      ]
     },
     "metadata": {},
     "output_type": "display_data"
    },
    {
     "data": {
      "text/html": [
       "<table>\n",
       "<thead><tr><th scope=col>KEY</th><th scope=col>CM_AIDS</th><th scope=col>CM_ALCOHOL</th><th scope=col>CM_ANEMDEF</th><th scope=col>CM_ARTH</th><th scope=col>CM_BLDLOSS</th><th scope=col>CM_CHF</th><th scope=col>CM_CHRNLUNG</th><th scope=col>CM_COAG</th><th scope=col>CM_DEPRESS</th><th scope=col>...</th><th scope=col>U_OCCTHERAPY</th><th scope=col>U_ORGANACQ</th><th scope=col>U_OTHIMPLANTS</th><th scope=col>U_PACEMAKER</th><th scope=col>U_PHYTHERAPY</th><th scope=col>U_RADTHERAPY</th><th scope=col>U_RESPTHERAPY</th><th scope=col>U_SPEECHTHERAPY</th><th scope=col>U_STRESS</th><th scope=col>U_ULTRASOUND</th></tr></thead>\n",
       "<tbody>\n",
       "\t<tr><td>5.320111e+14</td><td>1           </td><td>0           </td><td>0           </td><td>1           </td><td>0           </td><td>0           </td><td>0           </td><td>0           </td><td>1           </td><td>...         </td><td>1           </td><td>0           </td><td>1           </td><td>0           </td><td>1           </td><td>0           </td><td>0           </td><td>0           </td><td>0           </td><td>0           </td></tr>\n",
       "\t<tr><td>5.320111e+14</td><td>0           </td><td>0           </td><td>0           </td><td>0           </td><td>0           </td><td>0           </td><td>1           </td><td>0           </td><td>0           </td><td>...         </td><td>1           </td><td>0           </td><td>1           </td><td>0           </td><td>1           </td><td>0           </td><td>0           </td><td>0           </td><td>0           </td><td>0           </td></tr>\n",
       "\t<tr><td>5.320111e+14</td><td>0           </td><td>0           </td><td>0           </td><td>0           </td><td>0           </td><td>1           </td><td>0           </td><td>0           </td><td>0           </td><td>...         </td><td>1           </td><td>0           </td><td>0           </td><td>0           </td><td>1           </td><td>0           </td><td>0           </td><td>0           </td><td>0           </td><td>0           </td></tr>\n",
       "\t<tr><td>5.320111e+14</td><td>0           </td><td>0           </td><td>1           </td><td>0           </td><td>1           </td><td>0           </td><td>0           </td><td>0           </td><td>0           </td><td>...         </td><td>0           </td><td>0           </td><td>0           </td><td>0           </td><td>0           </td><td>0           </td><td>0           </td><td>0           </td><td>0           </td><td>0           </td></tr>\n",
       "\t<tr><td>5.320111e+14</td><td>0           </td><td>1           </td><td>1           </td><td>0           </td><td>1           </td><td>0           </td><td>0           </td><td>0           </td><td>1           </td><td>...         </td><td>0           </td><td>0           </td><td>0           </td><td>0           </td><td>1           </td><td>0           </td><td>0           </td><td>0           </td><td>0           </td><td>1           </td></tr>\n",
       "\t<tr><td>5.320111e+14</td><td>0           </td><td>0           </td><td>0           </td><td>0           </td><td>0           </td><td>0           </td><td>0           </td><td>0           </td><td>1           </td><td>...         </td><td>0           </td><td>0           </td><td>0           </td><td>0           </td><td>0           </td><td>0           </td><td>1           </td><td>0           </td><td>0           </td><td>1           </td></tr>\n",
       "</tbody>\n",
       "</table>\n"
      ],
      "text/latex": [
       "\\begin{tabular}{r|llllllllllllllllllllllllllllllllllllllllllllllllllllllllllllllllllllllllllllllllllllllllllllllllllllllllllllllllllllllllllllllllllllllllllllllllllllllllllllllllllllllllllllllllllllllllllllllllllllllllllllllllllllllllllllllllllllllllllllllllllllllllllllllllllllllllllllllllllllllllllllllllllllllllllllllllllllllllllllllllllllllllllllllllllllllllllllllllllllllllllllllllllllllllllllllllllllllllllllllllllllllllllllllllllllllllllllllllllllllllllllllllllllllllllllllllllllllllllllllllllllllllllllllllllllllllllllllllllllllllllllllllllllllllllllllllllllllllllllllllllllllllllllllllllllllllllllllllllllllllllllllllllllllllllllllllll}\n",
       " KEY & CM\\_AIDS & CM\\_ALCOHOL & CM\\_ANEMDEF & CM\\_ARTH & CM\\_BLDLOSS & CM\\_CHF & CM\\_CHRNLUNG & CM\\_COAG & CM\\_DEPRESS & ... & U\\_OCCTHERAPY & U\\_ORGANACQ & U\\_OTHIMPLANTS & U\\_PACEMAKER & U\\_PHYTHERAPY & U\\_RADTHERAPY & U\\_RESPTHERAPY & U\\_SPEECHTHERAPY & U\\_STRESS & U\\_ULTRASOUND\\\\\n",
       "\\hline\n",
       "\t 5.320111e+14 & 1            & 0            & 0            & 1            & 0            & 0            & 0            & 0            & 1            & ...          & 1            & 0            & 1            & 0            & 1            & 0            & 0            & 0            & 0            & 0           \\\\\n",
       "\t 5.320111e+14 & 0            & 0            & 0            & 0            & 0            & 0            & 1            & 0            & 0            & ...          & 1            & 0            & 1            & 0            & 1            & 0            & 0            & 0            & 0            & 0           \\\\\n",
       "\t 5.320111e+14 & 0            & 0            & 0            & 0            & 0            & 1            & 0            & 0            & 0            & ...          & 1            & 0            & 0            & 0            & 1            & 0            & 0            & 0            & 0            & 0           \\\\\n",
       "\t 5.320111e+14 & 0            & 0            & 1            & 0            & 1            & 0            & 0            & 0            & 0            & ...          & 0            & 0            & 0            & 0            & 0            & 0            & 0            & 0            & 0            & 0           \\\\\n",
       "\t 5.320111e+14 & 0            & 1            & 1            & 0            & 1            & 0            & 0            & 0            & 1            & ...          & 0            & 0            & 0            & 0            & 1            & 0            & 0            & 0            & 0            & 1           \\\\\n",
       "\t 5.320111e+14 & 0            & 0            & 0            & 0            & 0            & 0            & 0            & 0            & 1            & ...          & 0            & 0            & 0            & 0            & 0            & 0            & 1            & 0            & 0            & 1           \\\\\n",
       "\\end{tabular}\n"
      ],
      "text/markdown": [
       "\n",
       "KEY | CM_AIDS | CM_ALCOHOL | CM_ANEMDEF | CM_ARTH | CM_BLDLOSS | CM_CHF | CM_CHRNLUNG | CM_COAG | CM_DEPRESS | ... | U_OCCTHERAPY | U_ORGANACQ | U_OTHIMPLANTS | U_PACEMAKER | U_PHYTHERAPY | U_RADTHERAPY | U_RESPTHERAPY | U_SPEECHTHERAPY | U_STRESS | U_ULTRASOUND | \n",
       "|---|---|---|---|---|---|\n",
       "| 5.320111e+14 | 1            | 0            | 0            | 1            | 0            | 0            | 0            | 0            | 1            | ...          | 1            | 0            | 1            | 0            | 1            | 0            | 0            | 0            | 0            | 0            | \n",
       "| 5.320111e+14 | 0            | 0            | 0            | 0            | 0            | 0            | 1            | 0            | 0            | ...          | 1            | 0            | 1            | 0            | 1            | 0            | 0            | 0            | 0            | 0            | \n",
       "| 5.320111e+14 | 0            | 0            | 0            | 0            | 0            | 1            | 0            | 0            | 0            | ...          | 1            | 0            | 0            | 0            | 1            | 0            | 0            | 0            | 0            | 0            | \n",
       "| 5.320111e+14 | 0            | 0            | 1            | 0            | 1            | 0            | 0            | 0            | 0            | ...          | 0            | 0            | 0            | 0            | 0            | 0            | 0            | 0            | 0            | 0            | \n",
       "| 5.320111e+14 | 0            | 1            | 1            | 0            | 1            | 0            | 0            | 0            | 1            | ...          | 0            | 0            | 0            | 0            | 1            | 0            | 0            | 0            | 0            | 1            | \n",
       "| 5.320111e+14 | 0            | 0            | 0            | 0            | 0            | 0            | 0            | 0            | 1            | ...          | 0            | 0            | 0            | 0            | 0            | 0            | 1            | 0            | 0            | 1            | \n",
       "\n",
       "\n"
      ],
      "text/plain": [
       "  KEY          CM_AIDS CM_ALCOHOL CM_ANEMDEF CM_ARTH CM_BLDLOSS CM_CHF\n",
       "1 5.320111e+14 1       0          0          1       0          0     \n",
       "2 5.320111e+14 0       0          0          0       0          0     \n",
       "3 5.320111e+14 0       0          0          0       0          1     \n",
       "4 5.320111e+14 0       0          1          0       1          0     \n",
       "5 5.320111e+14 0       1          1          0       1          0     \n",
       "6 5.320111e+14 0       0          0          0       0          0     \n",
       "  CM_CHRNLUNG CM_COAG CM_DEPRESS ... U_OCCTHERAPY U_ORGANACQ U_OTHIMPLANTS\n",
       "1 0           0       1          ... 1            0          1            \n",
       "2 1           0       0          ... 1            0          1            \n",
       "3 0           0       0          ... 1            0          0            \n",
       "4 0           0       0          ... 0            0          0            \n",
       "5 0           0       1          ... 0            0          0            \n",
       "6 0           0       1          ... 0            0          0            \n",
       "  U_PACEMAKER U_PHYTHERAPY U_RADTHERAPY U_RESPTHERAPY U_SPEECHTHERAPY U_STRESS\n",
       "1 0           1            0            0             0               0       \n",
       "2 0           1            0            0             0               0       \n",
       "3 0           1            0            0             0               0       \n",
       "4 0           0            0            0             0               0       \n",
       "5 0           1            0            0             0               0       \n",
       "6 0           0            0            1             0               0       \n",
       "  U_ULTRASOUND\n",
       "1 0           \n",
       "2 0           \n",
       "3 0           \n",
       "4 0           \n",
       "5 1           \n",
       "6 1           "
      ]
     },
     "metadata": {},
     "output_type": "display_data"
    }
   ],
   "source": [
    "dat <- merge(merge(merge(dat_sevr, dat_chrg, by=\"KEY\"), dat_core, by=\"KEY\"), dat_dxpr, by=\"KEY\")  \n",
    "dim(dat)\n",
    "head(dat)\n",
    "write.csv(dat, 'Sample_WA_SID_2011.csv', row.names=F)"
   ]
  }
 ],
 "metadata": {
  "kernelspec": {
   "display_name": "R",
   "language": "R",
   "name": "ir"
  },
  "language_info": {
   "codemirror_mode": "r",
   "file_extension": ".r",
   "mimetype": "text/x-r-source",
   "name": "R",
   "pygments_lexer": "r",
   "version": "3.2.2"
  }
 },
 "nbformat": 4,
 "nbformat_minor": 1
}
